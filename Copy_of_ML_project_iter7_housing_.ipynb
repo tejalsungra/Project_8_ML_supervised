{
  "nbformat": 4,
  "nbformat_minor": 0,
  "metadata": {
    "colab": {
      "provenance": [],
      "mount_file_id": "13-8fUHasJhz161YZpFDic5Vh92vq-Soe",
      "authorship_tag": "ABX9TyN8d6XIVxa6kwtSgySMKf2v"
    },
    "kernelspec": {
      "name": "python3",
      "display_name": "Python 3"
    },
    "language_info": {
      "name": "python"
    }
  },
  "cells": [
    {
      "cell_type": "markdown",
      "source": [
        "# Supervised Machine Learning: Regression\n",
        "Linear Regression"
      ],
      "metadata": {
        "id": "VtzvWUlDzjCk"
      }
    },
    {
      "cell_type": "code",
      "source": [
        "import pandas as pd\n",
        "import numpy as np\n",
        "\n",
        "import matplotlib.pyplot as plt\n",
        "import seaborn as sns\n",
        "from sklearn.pipeline import make_pipeline\n",
        "from sklearn.model_selection import train_test_split\n",
        "from sklearn.impute import SimpleImputer, KNNImputer\n",
        "from sklearn.preprocessing import OneHotEncoder, OrdinalEncoder\n",
        "from sklearn.metrics import accuracy_score\n",
        "from sklearn.preprocessing import MinMaxScaler, StandardScaler, MaxAbsScaler,Normalizer, RobustScaler, PowerTransformer\n",
        "from sklearn.feature_selection import VarianceThreshold\n",
        "from sklearn.experimental import enable_iterative_imputer\n",
        "from sklearn.impute import IterativeImputer"
      ],
      "metadata": {
        "id": "XRdRxP_7ziv5"
      },
      "execution_count": null,
      "outputs": []
    },
    {
      "cell_type": "code",
      "execution_count": null,
      "metadata": {
        "id": "rY3ZE_Isy34T"
      },
      "outputs": [],
      "source": [
        "data = pd.read_csv(\"/content/drive/MyDrive/coding/housing_prices_iter7.csv\")"
      ]
    },
    {
      "cell_type": "code",
      "source": [
        "\n",
        "data[\"MSZoning\"]= data[\"MSZoning\"].str.strip()\n",
        "#data[\"MSZoning\"]= data[\"MSZoning\"].str.replace('C\\+', 'C',  regex=True)\n",
        "data[\"MSZoning\"]= data[\"MSZoning\"].apply(lambda x: x.replace(\"C\\+'\", \"C\"))\n",
        "data"
      ],
      "metadata": {
        "colab": {
          "base_uri": "https://localhost:8080/",
          "height": 487
        },
        "id": "95HPsbSW0A-Q",
        "outputId": "ac2b8152-97e0-4024-d740-0ccc593bda54"
      },
      "execution_count": null,
      "outputs": [
        {
          "output_type": "execute_result",
          "data": {
            "text/plain": [
              "        Id  MSSubClass MSZoning  LotFrontage  LotArea Street Alley LotShape  \\\n",
              "0        1          60       RL         65.0     8450   Pave   NaN      Reg   \n",
              "1        2          20       RL         80.0     9600   Pave   NaN      Reg   \n",
              "2        3          60       RL         68.0    11250   Pave   NaN      IR1   \n",
              "3        4          70       RL         60.0     9550   Pave   NaN      IR1   \n",
              "4        5          60       RL         84.0    14260   Pave   NaN      IR1   \n",
              "...    ...         ...      ...          ...      ...    ...   ...      ...   \n",
              "1455  1456          60       RL         62.0     7917   Pave   NaN      Reg   \n",
              "1456  1457          20       RL         85.0    13175   Pave   NaN      Reg   \n",
              "1457  1458          70       RL         66.0     9042   Pave   NaN      Reg   \n",
              "1458  1459          20       RL         68.0     9717   Pave   NaN      Reg   \n",
              "1459  1460          20       RL         75.0     9937   Pave   NaN      Reg   \n",
              "\n",
              "     LandContour Utilities  ... PoolArea PoolQC  Fence MiscFeature MiscVal  \\\n",
              "0            Lvl    AllPub  ...        0    NaN    NaN         NaN       0   \n",
              "1            Lvl    AllPub  ...        0    NaN    NaN         NaN       0   \n",
              "2            Lvl    AllPub  ...        0    NaN    NaN         NaN       0   \n",
              "3            Lvl    AllPub  ...        0    NaN    NaN         NaN       0   \n",
              "4            Lvl    AllPub  ...        0    NaN    NaN         NaN       0   \n",
              "...          ...       ...  ...      ...    ...    ...         ...     ...   \n",
              "1455         Lvl    AllPub  ...        0    NaN    NaN         NaN       0   \n",
              "1456         Lvl    AllPub  ...        0    NaN  MnPrv         NaN       0   \n",
              "1457         Lvl    AllPub  ...        0    NaN  GdPrv        Shed    2500   \n",
              "1458         Lvl    AllPub  ...        0    NaN    NaN         NaN       0   \n",
              "1459         Lvl    AllPub  ...        0    NaN    NaN         NaN       0   \n",
              "\n",
              "     MoSold YrSold  SaleType  SaleCondition  SalePrice  \n",
              "0         2   2008        WD         Normal     208500  \n",
              "1         5   2007        WD         Normal     181500  \n",
              "2         9   2008        WD         Normal     223500  \n",
              "3         2   2006        WD        Abnorml     140000  \n",
              "4        12   2008        WD         Normal     250000  \n",
              "...     ...    ...       ...            ...        ...  \n",
              "1455      8   2007        WD         Normal     175000  \n",
              "1456      2   2010        WD         Normal     210000  \n",
              "1457      5   2010        WD         Normal     266500  \n",
              "1458      4   2010        WD         Normal     142125  \n",
              "1459      6   2008        WD         Normal     147500  \n",
              "\n",
              "[1460 rows x 81 columns]"
            ],
            "text/html": [
              "\n",
              "  <div id=\"df-d63b80af-0330-4cff-a2d7-f9a401f32d86\">\n",
              "    <div class=\"colab-df-container\">\n",
              "      <div>\n",
              "<style scoped>\n",
              "    .dataframe tbody tr th:only-of-type {\n",
              "        vertical-align: middle;\n",
              "    }\n",
              "\n",
              "    .dataframe tbody tr th {\n",
              "        vertical-align: top;\n",
              "    }\n",
              "\n",
              "    .dataframe thead th {\n",
              "        text-align: right;\n",
              "    }\n",
              "</style>\n",
              "<table border=\"1\" class=\"dataframe\">\n",
              "  <thead>\n",
              "    <tr style=\"text-align: right;\">\n",
              "      <th></th>\n",
              "      <th>Id</th>\n",
              "      <th>MSSubClass</th>\n",
              "      <th>MSZoning</th>\n",
              "      <th>LotFrontage</th>\n",
              "      <th>LotArea</th>\n",
              "      <th>Street</th>\n",
              "      <th>Alley</th>\n",
              "      <th>LotShape</th>\n",
              "      <th>LandContour</th>\n",
              "      <th>Utilities</th>\n",
              "      <th>...</th>\n",
              "      <th>PoolArea</th>\n",
              "      <th>PoolQC</th>\n",
              "      <th>Fence</th>\n",
              "      <th>MiscFeature</th>\n",
              "      <th>MiscVal</th>\n",
              "      <th>MoSold</th>\n",
              "      <th>YrSold</th>\n",
              "      <th>SaleType</th>\n",
              "      <th>SaleCondition</th>\n",
              "      <th>SalePrice</th>\n",
              "    </tr>\n",
              "  </thead>\n",
              "  <tbody>\n",
              "    <tr>\n",
              "      <th>0</th>\n",
              "      <td>1</td>\n",
              "      <td>60</td>\n",
              "      <td>RL</td>\n",
              "      <td>65.0</td>\n",
              "      <td>8450</td>\n",
              "      <td>Pave</td>\n",
              "      <td>NaN</td>\n",
              "      <td>Reg</td>\n",
              "      <td>Lvl</td>\n",
              "      <td>AllPub</td>\n",
              "      <td>...</td>\n",
              "      <td>0</td>\n",
              "      <td>NaN</td>\n",
              "      <td>NaN</td>\n",
              "      <td>NaN</td>\n",
              "      <td>0</td>\n",
              "      <td>2</td>\n",
              "      <td>2008</td>\n",
              "      <td>WD</td>\n",
              "      <td>Normal</td>\n",
              "      <td>208500</td>\n",
              "    </tr>\n",
              "    <tr>\n",
              "      <th>1</th>\n",
              "      <td>2</td>\n",
              "      <td>20</td>\n",
              "      <td>RL</td>\n",
              "      <td>80.0</td>\n",
              "      <td>9600</td>\n",
              "      <td>Pave</td>\n",
              "      <td>NaN</td>\n",
              "      <td>Reg</td>\n",
              "      <td>Lvl</td>\n",
              "      <td>AllPub</td>\n",
              "      <td>...</td>\n",
              "      <td>0</td>\n",
              "      <td>NaN</td>\n",
              "      <td>NaN</td>\n",
              "      <td>NaN</td>\n",
              "      <td>0</td>\n",
              "      <td>5</td>\n",
              "      <td>2007</td>\n",
              "      <td>WD</td>\n",
              "      <td>Normal</td>\n",
              "      <td>181500</td>\n",
              "    </tr>\n",
              "    <tr>\n",
              "      <th>2</th>\n",
              "      <td>3</td>\n",
              "      <td>60</td>\n",
              "      <td>RL</td>\n",
              "      <td>68.0</td>\n",
              "      <td>11250</td>\n",
              "      <td>Pave</td>\n",
              "      <td>NaN</td>\n",
              "      <td>IR1</td>\n",
              "      <td>Lvl</td>\n",
              "      <td>AllPub</td>\n",
              "      <td>...</td>\n",
              "      <td>0</td>\n",
              "      <td>NaN</td>\n",
              "      <td>NaN</td>\n",
              "      <td>NaN</td>\n",
              "      <td>0</td>\n",
              "      <td>9</td>\n",
              "      <td>2008</td>\n",
              "      <td>WD</td>\n",
              "      <td>Normal</td>\n",
              "      <td>223500</td>\n",
              "    </tr>\n",
              "    <tr>\n",
              "      <th>3</th>\n",
              "      <td>4</td>\n",
              "      <td>70</td>\n",
              "      <td>RL</td>\n",
              "      <td>60.0</td>\n",
              "      <td>9550</td>\n",
              "      <td>Pave</td>\n",
              "      <td>NaN</td>\n",
              "      <td>IR1</td>\n",
              "      <td>Lvl</td>\n",
              "      <td>AllPub</td>\n",
              "      <td>...</td>\n",
              "      <td>0</td>\n",
              "      <td>NaN</td>\n",
              "      <td>NaN</td>\n",
              "      <td>NaN</td>\n",
              "      <td>0</td>\n",
              "      <td>2</td>\n",
              "      <td>2006</td>\n",
              "      <td>WD</td>\n",
              "      <td>Abnorml</td>\n",
              "      <td>140000</td>\n",
              "    </tr>\n",
              "    <tr>\n",
              "      <th>4</th>\n",
              "      <td>5</td>\n",
              "      <td>60</td>\n",
              "      <td>RL</td>\n",
              "      <td>84.0</td>\n",
              "      <td>14260</td>\n",
              "      <td>Pave</td>\n",
              "      <td>NaN</td>\n",
              "      <td>IR1</td>\n",
              "      <td>Lvl</td>\n",
              "      <td>AllPub</td>\n",
              "      <td>...</td>\n",
              "      <td>0</td>\n",
              "      <td>NaN</td>\n",
              "      <td>NaN</td>\n",
              "      <td>NaN</td>\n",
              "      <td>0</td>\n",
              "      <td>12</td>\n",
              "      <td>2008</td>\n",
              "      <td>WD</td>\n",
              "      <td>Normal</td>\n",
              "      <td>250000</td>\n",
              "    </tr>\n",
              "    <tr>\n",
              "      <th>...</th>\n",
              "      <td>...</td>\n",
              "      <td>...</td>\n",
              "      <td>...</td>\n",
              "      <td>...</td>\n",
              "      <td>...</td>\n",
              "      <td>...</td>\n",
              "      <td>...</td>\n",
              "      <td>...</td>\n",
              "      <td>...</td>\n",
              "      <td>...</td>\n",
              "      <td>...</td>\n",
              "      <td>...</td>\n",
              "      <td>...</td>\n",
              "      <td>...</td>\n",
              "      <td>...</td>\n",
              "      <td>...</td>\n",
              "      <td>...</td>\n",
              "      <td>...</td>\n",
              "      <td>...</td>\n",
              "      <td>...</td>\n",
              "      <td>...</td>\n",
              "    </tr>\n",
              "    <tr>\n",
              "      <th>1455</th>\n",
              "      <td>1456</td>\n",
              "      <td>60</td>\n",
              "      <td>RL</td>\n",
              "      <td>62.0</td>\n",
              "      <td>7917</td>\n",
              "      <td>Pave</td>\n",
              "      <td>NaN</td>\n",
              "      <td>Reg</td>\n",
              "      <td>Lvl</td>\n",
              "      <td>AllPub</td>\n",
              "      <td>...</td>\n",
              "      <td>0</td>\n",
              "      <td>NaN</td>\n",
              "      <td>NaN</td>\n",
              "      <td>NaN</td>\n",
              "      <td>0</td>\n",
              "      <td>8</td>\n",
              "      <td>2007</td>\n",
              "      <td>WD</td>\n",
              "      <td>Normal</td>\n",
              "      <td>175000</td>\n",
              "    </tr>\n",
              "    <tr>\n",
              "      <th>1456</th>\n",
              "      <td>1457</td>\n",
              "      <td>20</td>\n",
              "      <td>RL</td>\n",
              "      <td>85.0</td>\n",
              "      <td>13175</td>\n",
              "      <td>Pave</td>\n",
              "      <td>NaN</td>\n",
              "      <td>Reg</td>\n",
              "      <td>Lvl</td>\n",
              "      <td>AllPub</td>\n",
              "      <td>...</td>\n",
              "      <td>0</td>\n",
              "      <td>NaN</td>\n",
              "      <td>MnPrv</td>\n",
              "      <td>NaN</td>\n",
              "      <td>0</td>\n",
              "      <td>2</td>\n",
              "      <td>2010</td>\n",
              "      <td>WD</td>\n",
              "      <td>Normal</td>\n",
              "      <td>210000</td>\n",
              "    </tr>\n",
              "    <tr>\n",
              "      <th>1457</th>\n",
              "      <td>1458</td>\n",
              "      <td>70</td>\n",
              "      <td>RL</td>\n",
              "      <td>66.0</td>\n",
              "      <td>9042</td>\n",
              "      <td>Pave</td>\n",
              "      <td>NaN</td>\n",
              "      <td>Reg</td>\n",
              "      <td>Lvl</td>\n",
              "      <td>AllPub</td>\n",
              "      <td>...</td>\n",
              "      <td>0</td>\n",
              "      <td>NaN</td>\n",
              "      <td>GdPrv</td>\n",
              "      <td>Shed</td>\n",
              "      <td>2500</td>\n",
              "      <td>5</td>\n",
              "      <td>2010</td>\n",
              "      <td>WD</td>\n",
              "      <td>Normal</td>\n",
              "      <td>266500</td>\n",
              "    </tr>\n",
              "    <tr>\n",
              "      <th>1458</th>\n",
              "      <td>1459</td>\n",
              "      <td>20</td>\n",
              "      <td>RL</td>\n",
              "      <td>68.0</td>\n",
              "      <td>9717</td>\n",
              "      <td>Pave</td>\n",
              "      <td>NaN</td>\n",
              "      <td>Reg</td>\n",
              "      <td>Lvl</td>\n",
              "      <td>AllPub</td>\n",
              "      <td>...</td>\n",
              "      <td>0</td>\n",
              "      <td>NaN</td>\n",
              "      <td>NaN</td>\n",
              "      <td>NaN</td>\n",
              "      <td>0</td>\n",
              "      <td>4</td>\n",
              "      <td>2010</td>\n",
              "      <td>WD</td>\n",
              "      <td>Normal</td>\n",
              "      <td>142125</td>\n",
              "    </tr>\n",
              "    <tr>\n",
              "      <th>1459</th>\n",
              "      <td>1460</td>\n",
              "      <td>20</td>\n",
              "      <td>RL</td>\n",
              "      <td>75.0</td>\n",
              "      <td>9937</td>\n",
              "      <td>Pave</td>\n",
              "      <td>NaN</td>\n",
              "      <td>Reg</td>\n",
              "      <td>Lvl</td>\n",
              "      <td>AllPub</td>\n",
              "      <td>...</td>\n",
              "      <td>0</td>\n",
              "      <td>NaN</td>\n",
              "      <td>NaN</td>\n",
              "      <td>NaN</td>\n",
              "      <td>0</td>\n",
              "      <td>6</td>\n",
              "      <td>2008</td>\n",
              "      <td>WD</td>\n",
              "      <td>Normal</td>\n",
              "      <td>147500</td>\n",
              "    </tr>\n",
              "  </tbody>\n",
              "</table>\n",
              "<p>1460 rows × 81 columns</p>\n",
              "</div>\n",
              "      <button class=\"colab-df-convert\" onclick=\"convertToInteractive('df-d63b80af-0330-4cff-a2d7-f9a401f32d86')\"\n",
              "              title=\"Convert this dataframe to an interactive table.\"\n",
              "              style=\"display:none;\">\n",
              "        \n",
              "  <svg xmlns=\"http://www.w3.org/2000/svg\" height=\"24px\"viewBox=\"0 0 24 24\"\n",
              "       width=\"24px\">\n",
              "    <path d=\"M0 0h24v24H0V0z\" fill=\"none\"/>\n",
              "    <path d=\"M18.56 5.44l.94 2.06.94-2.06 2.06-.94-2.06-.94-.94-2.06-.94 2.06-2.06.94zm-11 1L8.5 8.5l.94-2.06 2.06-.94-2.06-.94L8.5 2.5l-.94 2.06-2.06.94zm10 10l.94 2.06.94-2.06 2.06-.94-2.06-.94-.94-2.06-.94 2.06-2.06.94z\"/><path d=\"M17.41 7.96l-1.37-1.37c-.4-.4-.92-.59-1.43-.59-.52 0-1.04.2-1.43.59L10.3 9.45l-7.72 7.72c-.78.78-.78 2.05 0 2.83L4 21.41c.39.39.9.59 1.41.59.51 0 1.02-.2 1.41-.59l7.78-7.78 2.81-2.81c.8-.78.8-2.07 0-2.86zM5.41 20L4 18.59l7.72-7.72 1.47 1.35L5.41 20z\"/>\n",
              "  </svg>\n",
              "      </button>\n",
              "      \n",
              "  <style>\n",
              "    .colab-df-container {\n",
              "      display:flex;\n",
              "      flex-wrap:wrap;\n",
              "      gap: 12px;\n",
              "    }\n",
              "\n",
              "    .colab-df-convert {\n",
              "      background-color: #E8F0FE;\n",
              "      border: none;\n",
              "      border-radius: 50%;\n",
              "      cursor: pointer;\n",
              "      display: none;\n",
              "      fill: #1967D2;\n",
              "      height: 32px;\n",
              "      padding: 0 0 0 0;\n",
              "      width: 32px;\n",
              "    }\n",
              "\n",
              "    .colab-df-convert:hover {\n",
              "      background-color: #E2EBFA;\n",
              "      box-shadow: 0px 1px 2px rgba(60, 64, 67, 0.3), 0px 1px 3px 1px rgba(60, 64, 67, 0.15);\n",
              "      fill: #174EA6;\n",
              "    }\n",
              "\n",
              "    [theme=dark] .colab-df-convert {\n",
              "      background-color: #3B4455;\n",
              "      fill: #D2E3FC;\n",
              "    }\n",
              "\n",
              "    [theme=dark] .colab-df-convert:hover {\n",
              "      background-color: #434B5C;\n",
              "      box-shadow: 0px 1px 3px 1px rgba(0, 0, 0, 0.15);\n",
              "      filter: drop-shadow(0px 1px 2px rgba(0, 0, 0, 0.3));\n",
              "      fill: #FFFFFF;\n",
              "    }\n",
              "  </style>\n",
              "\n",
              "      <script>\n",
              "        const buttonEl =\n",
              "          document.querySelector('#df-d63b80af-0330-4cff-a2d7-f9a401f32d86 button.colab-df-convert');\n",
              "        buttonEl.style.display =\n",
              "          google.colab.kernel.accessAllowed ? 'block' : 'none';\n",
              "\n",
              "        async function convertToInteractive(key) {\n",
              "          const element = document.querySelector('#df-d63b80af-0330-4cff-a2d7-f9a401f32d86');\n",
              "          const dataTable =\n",
              "            await google.colab.kernel.invokeFunction('convertToInteractive',\n",
              "                                                     [key], {});\n",
              "          if (!dataTable) return;\n",
              "\n",
              "          const docLinkHtml = 'Like what you see? Visit the ' +\n",
              "            '<a target=\"_blank\" href=https://colab.research.google.com/notebooks/data_table.ipynb>data table notebook</a>'\n",
              "            + ' to learn more about interactive tables.';\n",
              "          element.innerHTML = '';\n",
              "          dataTable['output_type'] = 'display_data';\n",
              "          await google.colab.output.renderOutput(dataTable, element);\n",
              "          const docLink = document.createElement('div');\n",
              "          docLink.innerHTML = docLinkHtml;\n",
              "          element.appendChild(docLink);\n",
              "        }\n",
              "      </script>\n",
              "    </div>\n",
              "  </div>\n",
              "  "
            ]
          },
          "metadata": {},
          "execution_count": 8
        }
      ]
    },
    {
      "cell_type": "code",
      "source": [
        "sns.scatterplot(x= \"MSZoning\", y = \"SalePrice\", data = data )"
      ],
      "metadata": {
        "colab": {
          "base_uri": "https://localhost:8080/",
          "height": 297
        },
        "id": "dV4N08fTij09",
        "outputId": "d16fd5b0-b93f-482a-fa27-ec4ae134561c"
      },
      "execution_count": null,
      "outputs": [
        {
          "output_type": "execute_result",
          "data": {
            "text/plain": [
              "<matplotlib.axes._subplots.AxesSubplot at 0x7f67af02cb10>"
            ]
          },
          "metadata": {},
          "execution_count": 9
        },
        {
          "output_type": "display_data",
          "data": {
            "text/plain": [
              "<Figure size 432x288 with 1 Axes>"
            ],
            "image/png": "[encoded data removed]"
          },
          "metadata": {
            "needs_background": "light"
          }
        }
      ]
    },
    {
      "cell_type": "markdown",
      "source": [
        "# Data Exploration and Cleaning"
      ],
      "metadata": {
        "id": "v6j7_780n0-G"
      }
    },
    {
      "cell_type": "code",
      "source": [
        "data.info()"
      ],
      "metadata": {
        "colab": {
          "base_uri": "https://localhost:8080/"
        },
        "id": "amQxtPMYaHsX",
        "outputId": "11cde404-0022-4b20-f615-6bb2aa07aa9b"
      },
      "execution_count": null,
      "outputs": [
        {
          "output_type": "stream",
          "name": "stdout",
          "text": [
            "<class 'pandas.core.frame.DataFrame'>\n",
            "RangeIndex: 1460 entries, 0 to 1459\n",
            "Data columns (total 81 columns):\n",
            " #   Column         Non-Null Count  Dtype  \n",
            "---  ------         --------------  -----  \n",
            " 0   Id             1460 non-null   int64  \n",
            " 1   MSSubClass     1460 non-null   int64  \n",
            " 2   MSZoning       1460 non-null   object \n",
            " 3   LotFrontage    1201 non-null   float64\n",
            " 4   LotArea        1460 non-null   int64  \n",
            " 5   Street         1460 non-null   object \n",
            " 6   Alley          91 non-null     object \n",
            " 7   LotShape       1460 non-null   object \n",
            " 8   LandContour    1460 non-null   object \n",
            " 9   Utilities      1460 non-null   object \n",
            " 10  LotConfig      1460 non-null   object \n",
            " 11  LandSlope      1460 non-null   object \n",
            " 12  Neighborhood   1460 non-null   object \n",
            " 13  Condition1     1460 non-null   object \n",
            " 14  Condition2     1460 non-null   object \n",
            " 15  BldgType       1460 non-null   object \n",
            " 16  HouseStyle     1460 non-null   object \n",
            " 17  OverallQual    1460 non-null   int64  \n",
            " 18  OverallCond    1460 non-null   int64  \n",
            " 19  YearBuilt      1460 non-null   int64  \n",
            " 20  YearRemodAdd   1460 non-null   int64  \n",
            " 21  RoofStyle      1460 non-null   object \n",
            " 22  RoofMatl       1460 non-null   object \n",
            " 23  Exterior1st    1460 non-null   object \n",
            " 24  Exterior2nd    1460 non-null   object \n",
            " 25  MasVnrType     1452 non-null   object \n",
            " 26  MasVnrArea     1452 non-null   float64\n",
            " 27  ExterQual      1460 non-null   object \n",
            " 28  ExterCond      1460 non-null   object \n",
            " 29  Foundation     1460 non-null   object \n",
            " 30  BsmtQual       1423 non-null   object \n",
            " 31  BsmtCond       1423 non-null   object \n",
            " 32  BsmtExposure   1422 non-null   object \n",
            " 33  BsmtFinType1   1423 non-null   object \n",
            " 34  BsmtFinSF1     1460 non-null   int64  \n",
            " 35  BsmtFinType2   1422 non-null   object \n",
            " 36  BsmtFinSF2     1460 non-null   int64  \n",
            " 37  BsmtUnfSF      1460 non-null   int64  \n",
            " 38  TotalBsmtSF    1460 non-null   int64  \n",
            " 39  Heating        1460 non-null   object \n",
            " 40  HeatingQC      1460 non-null   object \n",
            " 41  CentralAir     1460 non-null   object \n",
            " 42  Electrical     1459 non-null   object \n",
            " 43  1stFlrSF       1460 non-null   int64  \n",
            " 44  2ndFlrSF       1460 non-null   int64  \n",
            " 45  LowQualFinSF   1460 non-null   int64  \n",
            " 46  GrLivArea      1460 non-null   int64  \n",
            " 47  BsmtFullBath   1460 non-null   int64  \n",
            " 48  BsmtHalfBath   1460 non-null   int64  \n",
            " 49  FullBath       1460 non-null   int64  \n",
            " 50  HalfBath       1460 non-null   int64  \n",
            " 51  BedroomAbvGr   1460 non-null   int64  \n",
            " 52  KitchenAbvGr   1460 non-null   int64  \n",
            " 53  KitchenQual    1460 non-null   object \n",
            " 54  TotRmsAbvGrd   1460 non-null   int64  \n",
            " 55  Functional     1460 non-null   object \n",
            " 56  Fireplaces     1460 non-null   int64  \n",
            " 57  FireplaceQu    770 non-null    object \n",
            " 58  GarageType     1379 non-null   object \n",
            " 59  GarageYrBlt    1379 non-null   float64\n",
            " 60  GarageFinish   1379 non-null   object \n",
            " 61  GarageCars     1460 non-null   int64  \n",
            " 62  GarageArea     1460 non-null   int64  \n",
            " 63  GarageQual     1379 non-null   object \n",
            " 64  GarageCond     1379 non-null   object \n",
            " 65  PavedDrive     1460 non-null   object \n",
            " 66  WoodDeckSF     1460 non-null   int64  \n",
            " 67  OpenPorchSF    1460 non-null   int64  \n",
            " 68  EnclosedPorch  1460 non-null   int64  \n",
            " 69  3SsnPorch      1460 non-null   int64  \n",
            " 70  ScreenPorch    1460 non-null   int64  \n",
            " 71  PoolArea       1460 non-null   int64  \n",
            " 72  PoolQC         7 non-null      object \n",
            " 73  Fence          281 non-null    object \n",
            " 74  MiscFeature    54 non-null     object \n",
            " 75  MiscVal        1460 non-null   int64  \n",
            " 76  MoSold         1460 non-null   int64  \n",
            " 77  YrSold         1460 non-null   int64  \n",
            " 78  SaleType       1460 non-null   object \n",
            " 79  SaleCondition  1460 non-null   object \n",
            " 80  SalePrice      1460 non-null   int64  \n",
            "dtypes: float64(3), int64(35), object(43)\n",
            "memory usage: 924.0+ KB\n"
          ]
        }
      ]
    },
    {
      "cell_type": "code",
      "source": [
        "# seperating features and target\n",
        "X= data\n",
        "y= X.pop('SalePrice')"
      ],
      "metadata": {
        "id": "oFFET44Xc9Fn"
      },
      "execution_count": null,
      "outputs": []
    },
    {
      "cell_type": "code",
      "source": [
        "\n",
        "#fig, ax = plt.subplots(figsize=(10,8))         # Sample figsize in inches\n",
        "#sns.heatmap(X.isna(), annot=True, linewidths=.5, ax=ax)\n"
      ],
      "metadata": {
        "id": "pV60xnQDaUXr"
      },
      "execution_count": null,
      "outputs": []
    },
    {
      "cell_type": "markdown",
      "source": [
        "# Looking for Null values"
      ],
      "metadata": {
        "id": "XFYLJvTooLqh"
      }
    },
    {
      "cell_type": "code",
      "source": [
        "X['PoolQC'].isna().sum()"
      ],
      "metadata": {
        "colab": {
          "base_uri": "https://localhost:8080/"
        },
        "id": "oSJXSh0vmzkv",
        "outputId": "d92b1563-bfb9-4601-ae77-5d46d79eece5"
      },
      "execution_count": null,
      "outputs": [
        {
          "output_type": "execute_result",
          "data": {
            "text/plain": [
              "1453"
            ]
          },
          "metadata": {},
          "execution_count": 13
        }
      ]
    },
    {
      "cell_type": "code",
      "source": [
        "X['Alley'].isna().sum()"
      ],
      "metadata": {
        "colab": {
          "base_uri": "https://localhost:8080/"
        },
        "id": "85yh_33anpYw",
        "outputId": "d6ba413f-c02a-4bcd-d324-1c6062b49f22"
      },
      "execution_count": null,
      "outputs": [
        {
          "output_type": "execute_result",
          "data": {
            "text/plain": [
              "1369"
            ]
          },
          "metadata": {},
          "execution_count": 14
        }
      ]
    },
    {
      "cell_type": "code",
      "source": [
        "X['MiscFeature'].isna().sum()"
      ],
      "metadata": {
        "colab": {
          "base_uri": "https://localhost:8080/"
        },
        "id": "76G_g1ncn-8g",
        "outputId": "b1dcce57-989d-4253-c4c0-de13a8106b3e"
      },
      "execution_count": null,
      "outputs": [
        {
          "output_type": "execute_result",
          "data": {
            "text/plain": [
              "1406"
            ]
          },
          "metadata": {},
          "execution_count": 15
        }
      ]
    },
    {
      "cell_type": "code",
      "source": [
        "X['Fence'].isna().sum()"
      ],
      "metadata": {
        "colab": {
          "base_uri": "https://localhost:8080/"
        },
        "id": "yhzJW3Y3oQjs",
        "outputId": "67910c10-4a7f-4777-f620-2b51cb7caf05"
      },
      "execution_count": null,
      "outputs": [
        {
          "output_type": "execute_result",
          "data": {
            "text/plain": [
              "1179"
            ]
          },
          "metadata": {},
          "execution_count": 16
        }
      ]
    },
    {
      "cell_type": "code",
      "source": [
        "X['FireplaceQu'].isna().sum()"
      ],
      "metadata": {
        "colab": {
          "base_uri": "https://localhost:8080/"
        },
        "id": "4VaS8gykPkne",
        "outputId": "62d91fef-1f0c-47b3-faef-89f863dabe15"
      },
      "execution_count": null,
      "outputs": [
        {
          "output_type": "execute_result",
          "data": {
            "text/plain": [
              "690"
            ]
          },
          "metadata": {},
          "execution_count": 17
        }
      ]
    },
    {
      "cell_type": "code",
      "source": [
        "X=X.drop(['PoolQC', 'Alley','MiscFeature','Fence', 'Id' ], axis = 1)\n",
        "X"
      ],
      "metadata": {
        "colab": {
          "base_uri": "https://localhost:8080/",
          "height": 487
        },
        "id": "O04xE0EqS9WO",
        "outputId": "fcd296d4-c76f-4a04-ce2f-f51936c5396a"
      },
      "execution_count": null,
      "outputs": [
        {
          "output_type": "execute_result",
          "data": {
            "text/plain": [
              "      MSSubClass MSZoning  LotFrontage  LotArea Street LotShape LandContour  \\\n",
              "0             60       RL         65.0     8450   Pave      Reg         Lvl   \n",
              "1             20       RL         80.0     9600   Pave      Reg         Lvl   \n",
              "2             60       RL         68.0    11250   Pave      IR1         Lvl   \n",
              "3             70       RL         60.0     9550   Pave      IR1         Lvl   \n",
              "4             60       RL         84.0    14260   Pave      IR1         Lvl   \n",
              "...          ...      ...          ...      ...    ...      ...         ...   \n",
              "1455          60       RL         62.0     7917   Pave      Reg         Lvl   \n",
              "1456          20       RL         85.0    13175   Pave      Reg         Lvl   \n",
              "1457          70       RL         66.0     9042   Pave      Reg         Lvl   \n",
              "1458          20       RL         68.0     9717   Pave      Reg         Lvl   \n",
              "1459          20       RL         75.0     9937   Pave      Reg         Lvl   \n",
              "\n",
              "     Utilities LotConfig LandSlope  ... OpenPorchSF EnclosedPorch 3SsnPorch  \\\n",
              "0       AllPub    Inside       Gtl  ...          61             0         0   \n",
              "1       AllPub       FR2       Gtl  ...           0             0         0   \n",
              "2       AllPub    Inside       Gtl  ...          42             0         0   \n",
              "3       AllPub    Corner       Gtl  ...          35           272         0   \n",
              "4       AllPub       FR2       Gtl  ...          84             0         0   \n",
              "...        ...       ...       ...  ...         ...           ...       ...   \n",
              "1455    AllPub    Inside       Gtl  ...          40             0         0   \n",
              "1456    AllPub    Inside       Gtl  ...           0             0         0   \n",
              "1457    AllPub    Inside       Gtl  ...          60             0         0   \n",
              "1458    AllPub    Inside       Gtl  ...           0           112         0   \n",
              "1459    AllPub    Inside       Gtl  ...          68             0         0   \n",
              "\n",
              "     ScreenPorch PoolArea  MiscVal  MoSold  YrSold  SaleType SaleCondition  \n",
              "0              0        0        0       2    2008        WD        Normal  \n",
              "1              0        0        0       5    2007        WD        Normal  \n",
              "2              0        0        0       9    2008        WD        Normal  \n",
              "3              0        0        0       2    2006        WD       Abnorml  \n",
              "4              0        0        0      12    2008        WD        Normal  \n",
              "...          ...      ...      ...     ...     ...       ...           ...  \n",
              "1455           0        0        0       8    2007        WD        Normal  \n",
              "1456           0        0        0       2    2010        WD        Normal  \n",
              "1457           0        0     2500       5    2010        WD        Normal  \n",
              "1458           0        0        0       4    2010        WD        Normal  \n",
              "1459           0        0        0       6    2008        WD        Normal  \n",
              "\n",
              "[1460 rows x 75 columns]"
            ],
            "text/html": [
              "\n",
              "  <div id=\"df-4be572c2-9970-4390-9865-9b675bac62fc\">\n",
              "    <div class=\"colab-df-container\">\n",
              "      <div>\n",
              "<style scoped>\n",
              "    .dataframe tbody tr th:only-of-type {\n",
              "        vertical-align: middle;\n",
              "    }\n",
              "\n",
              "    .dataframe tbody tr th {\n",
              "        vertical-align: top;\n",
              "    }\n",
              "\n",
              "    .dataframe thead th {\n",
              "        text-align: right;\n",
              "    }\n",
              "</style>\n",
              "<table border=\"1\" class=\"dataframe\">\n",
              "  <thead>\n",
              "    <tr style=\"text-align: right;\">\n",
              "      <th></th>\n",
              "      <th>MSSubClass</th>\n",
              "      <th>MSZoning</th>\n",
              "      <th>LotFrontage</th>\n",
              "      <th>LotArea</th>\n",
              "      <th>Street</th>\n",
              "      <th>LotShape</th>\n",
              "      <th>LandContour</th>\n",
              "      <th>Utilities</th>\n",
              "      <th>LotConfig</th>\n",
              "      <th>LandSlope</th>\n",
              "      <th>...</th>\n",
              "      <th>OpenPorchSF</th>\n",
              "      <th>EnclosedPorch</th>\n",
              "      <th>3SsnPorch</th>\n",
              "      <th>ScreenPorch</th>\n",
              "      <th>PoolArea</th>\n",
              "      <th>MiscVal</th>\n",
              "      <th>MoSold</th>\n",
              "      <th>YrSold</th>\n",
              "      <th>SaleType</th>\n",
              "      <th>SaleCondition</th>\n",
              "    </tr>\n",
              "  </thead>\n",
              "  <tbody>\n",
              "    <tr>\n",
              "      <th>0</th>\n",
              "      <td>60</td>\n",
              "      <td>RL</td>\n",
              "      <td>65.0</td>\n",
              "      <td>8450</td>\n",
              "      <td>Pave</td>\n",
              "      <td>Reg</td>\n",
              "      <td>Lvl</td>\n",
              "      <td>AllPub</td>\n",
              "      <td>Inside</td>\n",
              "      <td>Gtl</td>\n",
              "      <td>...</td>\n",
              "      <td>61</td>\n",
              "      <td>0</td>\n",
              "      <td>0</td>\n",
              "      <td>0</td>\n",
              "      <td>0</td>\n",
              "      <td>0</td>\n",
              "      <td>2</td>\n",
              "      <td>2008</td>\n",
              "      <td>WD</td>\n",
              "      <td>Normal</td>\n",
              "    </tr>\n",
              "    <tr>\n",
              "      <th>1</th>\n",
              "      <td>20</td>\n",
              "      <td>RL</td>\n",
              "      <td>80.0</td>\n",
              "      <td>9600</td>\n",
              "      <td>Pave</td>\n",
              "      <td>Reg</td>\n",
              "      <td>Lvl</td>\n",
              "      <td>AllPub</td>\n",
              "      <td>FR2</td>\n",
              "      <td>Gtl</td>\n",
              "      <td>...</td>\n",
              "      <td>0</td>\n",
              "      <td>0</td>\n",
              "      <td>0</td>\n",
              "      <td>0</td>\n",
              "      <td>0</td>\n",
              "      <td>0</td>\n",
              "      <td>5</td>\n",
              "      <td>2007</td>\n",
              "      <td>WD</td>\n",
              "      <td>Normal</td>\n",
              "    </tr>\n",
              "    <tr>\n",
              "      <th>2</th>\n",
              "      <td>60</td>\n",
              "      <td>RL</td>\n",
              "      <td>68.0</td>\n",
              "      <td>11250</td>\n",
              "      <td>Pave</td>\n",
              "      <td>IR1</td>\n",
              "      <td>Lvl</td>\n",
              "      <td>AllPub</td>\n",
              "      <td>Inside</td>\n",
              "      <td>Gtl</td>\n",
              "      <td>...</td>\n",
              "      <td>42</td>\n",
              "      <td>0</td>\n",
              "      <td>0</td>\n",
              "      <td>0</td>\n",
              "      <td>0</td>\n",
              "      <td>0</td>\n",
              "      <td>9</td>\n",
              "      <td>2008</td>\n",
              "      <td>WD</td>\n",
              "      <td>Normal</td>\n",
              "    </tr>\n",
              "    <tr>\n",
              "      <th>3</th>\n",
              "      <td>70</td>\n",
              "      <td>RL</td>\n",
              "      <td>60.0</td>\n",
              "      <td>9550</td>\n",
              "      <td>Pave</td>\n",
              "      <td>IR1</td>\n",
              "      <td>Lvl</td>\n",
              "      <td>AllPub</td>\n",
              "      <td>Corner</td>\n",
              "      <td>Gtl</td>\n",
              "      <td>...</td>\n",
              "      <td>35</td>\n",
              "      <td>272</td>\n",
              "      <td>0</td>\n",
              "      <td>0</td>\n",
              "      <td>0</td>\n",
              "      <td>0</td>\n",
              "      <td>2</td>\n",
              "      <td>2006</td>\n",
              "      <td>WD</td>\n",
              "      <td>Abnorml</td>\n",
              "    </tr>\n",
              "    <tr>\n",
              "      <th>4</th>\n",
              "      <td>60</td>\n",
              "      <td>RL</td>\n",
              "      <td>84.0</td>\n",
              "      <td>14260</td>\n",
              "      <td>Pave</td>\n",
              "      <td>IR1</td>\n",
              "      <td>Lvl</td>\n",
              "      <td>AllPub</td>\n",
              "      <td>FR2</td>\n",
              "      <td>Gtl</td>\n",
              "      <td>...</td>\n",
              "      <td>84</td>\n",
              "      <td>0</td>\n",
              "      <td>0</td>\n",
              "      <td>0</td>\n",
              "      <td>0</td>\n",
              "      <td>0</td>\n",
              "      <td>12</td>\n",
              "      <td>2008</td>\n",
              "      <td>WD</td>\n",
              "      <td>Normal</td>\n",
              "    </tr>\n",
              "    <tr>\n",
              "      <th>...</th>\n",
              "      <td>...</td>\n",
              "      <td>...</td>\n",
              "      <td>...</td>\n",
              "      <td>...</td>\n",
              "      <td>...</td>\n",
              "      <td>...</td>\n",
              "      <td>...</td>\n",
              "      <td>...</td>\n",
              "      <td>...</td>\n",
              "      <td>...</td>\n",
              "      <td>...</td>\n",
              "      <td>...</td>\n",
              "      <td>...</td>\n",
              "      <td>...</td>\n",
              "      <td>...</td>\n",
              "      <td>...</td>\n",
              "      <td>...</td>\n",
              "      <td>...</td>\n",
              "      <td>...</td>\n",
              "      <td>...</td>\n",
              "      <td>...</td>\n",
              "    </tr>\n",
              "    <tr>\n",
              "      <th>1455</th>\n",
              "      <td>60</td>\n",
              "      <td>RL</td>\n",
              "      <td>62.0</td>\n",
              "      <td>7917</td>\n",
              "      <td>Pave</td>\n",
              "      <td>Reg</td>\n",
              "      <td>Lvl</td>\n",
              "      <td>AllPub</td>\n",
              "      <td>Inside</td>\n",
              "      <td>Gtl</td>\n",
              "      <td>...</td>\n",
              "      <td>40</td>\n",
              "      <td>0</td>\n",
              "      <td>0</td>\n",
              "      <td>0</td>\n",
              "      <td>0</td>\n",
              "      <td>0</td>\n",
              "      <td>8</td>\n",
              "      <td>2007</td>\n",
              "      <td>WD</td>\n",
              "      <td>Normal</td>\n",
              "    </tr>\n",
              "    <tr>\n",
              "      <th>1456</th>\n",
              "      <td>20</td>\n",
              "      <td>RL</td>\n",
              "      <td>85.0</td>\n",
              "      <td>13175</td>\n",
              "      <td>Pave</td>\n",
              "      <td>Reg</td>\n",
              "      <td>Lvl</td>\n",
              "      <td>AllPub</td>\n",
              "      <td>Inside</td>\n",
              "      <td>Gtl</td>\n",
              "      <td>...</td>\n",
              "      <td>0</td>\n",
              "      <td>0</td>\n",
              "      <td>0</td>\n",
              "      <td>0</td>\n",
              "      <td>0</td>\n",
              "      <td>0</td>\n",
              "      <td>2</td>\n",
              "      <td>2010</td>\n",
              "      <td>WD</td>\n",
              "      <td>Normal</td>\n",
              "    </tr>\n",
              "    <tr>\n",
              "      <th>1457</th>\n",
              "      <td>70</td>\n",
              "      <td>RL</td>\n",
              "      <td>66.0</td>\n",
              "      <td>9042</td>\n",
              "      <td>Pave</td>\n",
              "      <td>Reg</td>\n",
              "      <td>Lvl</td>\n",
              "      <td>AllPub</td>\n",
              "      <td>Inside</td>\n",
              "      <td>Gtl</td>\n",
              "      <td>...</td>\n",
              "      <td>60</td>\n",
              "      <td>0</td>\n",
              "      <td>0</td>\n",
              "      <td>0</td>\n",
              "      <td>0</td>\n",
              "      <td>2500</td>\n",
              "      <td>5</td>\n",
              "      <td>2010</td>\n",
              "      <td>WD</td>\n",
              "      <td>Normal</td>\n",
              "    </tr>\n",
              "    <tr>\n",
              "      <th>1458</th>\n",
              "      <td>20</td>\n",
              "      <td>RL</td>\n",
              "      <td>68.0</td>\n",
              "      <td>9717</td>\n",
              "      <td>Pave</td>\n",
              "      <td>Reg</td>\n",
              "      <td>Lvl</td>\n",
              "      <td>AllPub</td>\n",
              "      <td>Inside</td>\n",
              "      <td>Gtl</td>\n",
              "      <td>...</td>\n",
              "      <td>0</td>\n",
              "      <td>112</td>\n",
              "      <td>0</td>\n",
              "      <td>0</td>\n",
              "      <td>0</td>\n",
              "      <td>0</td>\n",
              "      <td>4</td>\n",
              "      <td>2010</td>\n",
              "      <td>WD</td>\n",
              "      <td>Normal</td>\n",
              "    </tr>\n",
              "    <tr>\n",
              "      <th>1459</th>\n",
              "      <td>20</td>\n",
              "      <td>RL</td>\n",
              "      <td>75.0</td>\n",
              "      <td>9937</td>\n",
              "      <td>Pave</td>\n",
              "      <td>Reg</td>\n",
              "      <td>Lvl</td>\n",
              "      <td>AllPub</td>\n",
              "      <td>Inside</td>\n",
              "      <td>Gtl</td>\n",
              "      <td>...</td>\n",
              "      <td>68</td>\n",
              "      <td>0</td>\n",
              "      <td>0</td>\n",
              "      <td>0</td>\n",
              "      <td>0</td>\n",
              "      <td>0</td>\n",
              "      <td>6</td>\n",
              "      <td>2008</td>\n",
              "      <td>WD</td>\n",
              "      <td>Normal</td>\n",
              "    </tr>\n",
              "  </tbody>\n",
              "</table>\n",
              "<p>1460 rows × 75 columns</p>\n",
              "</div>\n",
              "      <button class=\"colab-df-convert\" onclick=\"convertToInteractive('df-4be572c2-9970-4390-9865-9b675bac62fc')\"\n",
              "              title=\"Convert this dataframe to an interactive table.\"\n",
              "              style=\"display:none;\">\n",
              "        \n",
              "  <svg xmlns=\"http://www.w3.org/2000/svg\" height=\"24px\"viewBox=\"0 0 24 24\"\n",
              "       width=\"24px\">\n",
              "    <path d=\"M0 0h24v24H0V0z\" fill=\"none\"/>\n",
              "    <path d=\"M18.56 5.44l.94 2.06.94-2.06 2.06-.94-2.06-.94-.94-2.06-.94 2.06-2.06.94zm-11 1L8.5 8.5l.94-2.06 2.06-.94-2.06-.94L8.5 2.5l-.94 2.06-2.06.94zm10 10l.94 2.06.94-2.06 2.06-.94-2.06-.94-.94-2.06-.94 2.06-2.06.94z\"/><path d=\"M17.41 7.96l-1.37-1.37c-.4-.4-.92-.59-1.43-.59-.52 0-1.04.2-1.43.59L10.3 9.45l-7.72 7.72c-.78.78-.78 2.05 0 2.83L4 21.41c.39.39.9.59 1.41.59.51 0 1.02-.2 1.41-.59l7.78-7.78 2.81-2.81c.8-.78.8-2.07 0-2.86zM5.41 20L4 18.59l7.72-7.72 1.47 1.35L5.41 20z\"/>\n",
              "  </svg>\n",
              "      </button>\n",
              "      \n",
              "  <style>\n",
              "    .colab-df-container {\n",
              "      display:flex;\n",
              "      flex-wrap:wrap;\n",
              "      gap: 12px;\n",
              "    }\n",
              "\n",
              "    .colab-df-convert {\n",
              "      background-color: #E8F0FE;\n",
              "      border: none;\n",
              "      border-radius: 50%;\n",
              "      cursor: pointer;\n",
              "      display: none;\n",
              "      fill: #1967D2;\n",
              "      height: 32px;\n",
              "      padding: 0 0 0 0;\n",
              "      width: 32px;\n",
              "    }\n",
              "\n",
              "    .colab-df-convert:hover {\n",
              "      background-color: #E2EBFA;\n",
              "      box-shadow: 0px 1px 2px rgba(60, 64, 67, 0.3), 0px 1px 3px 1px rgba(60, 64, 67, 0.15);\n",
              "      fill: #174EA6;\n",
              "    }\n",
              "\n",
              "    [theme=dark] .colab-df-convert {\n",
              "      background-color: #3B4455;\n",
              "      fill: #D2E3FC;\n",
              "    }\n",
              "\n",
              "    [theme=dark] .colab-df-convert:hover {\n",
              "      background-color: #434B5C;\n",
              "      box-shadow: 0px 1px 3px 1px rgba(0, 0, 0, 0.15);\n",
              "      filter: drop-shadow(0px 1px 2px rgba(0, 0, 0, 0.3));\n",
              "      fill: #FFFFFF;\n",
              "    }\n",
              "  </style>\n",
              "\n",
              "      <script>\n",
              "        const buttonEl =\n",
              "          document.querySelector('#df-4be572c2-9970-4390-9865-9b675bac62fc button.colab-df-convert');\n",
              "        buttonEl.style.display =\n",
              "          google.colab.kernel.accessAllowed ? 'block' : 'none';\n",
              "\n",
              "        async function convertToInteractive(key) {\n",
              "          const element = document.querySelector('#df-4be572c2-9970-4390-9865-9b675bac62fc');\n",
              "          const dataTable =\n",
              "            await google.colab.kernel.invokeFunction('convertToInteractive',\n",
              "                                                     [key], {});\n",
              "          if (!dataTable) return;\n",
              "\n",
              "          const docLinkHtml = 'Like what you see? Visit the ' +\n",
              "            '<a target=\"_blank\" href=https://colab.research.google.com/notebooks/data_table.ipynb>data table notebook</a>'\n",
              "            + ' to learn more about interactive tables.';\n",
              "          element.innerHTML = '';\n",
              "          dataTable['output_type'] = 'display_data';\n",
              "          await google.colab.output.renderOutput(dataTable, element);\n",
              "          const docLink = document.createElement('div');\n",
              "          docLink.innerHTML = docLinkHtml;\n",
              "          element.appendChild(docLink);\n",
              "        }\n",
              "      </script>\n",
              "    </div>\n",
              "  </div>\n",
              "  "
            ]
          },
          "metadata": {},
          "execution_count": 18
        }
      ]
    },
    {
      "cell_type": "markdown",
      "source": [
        "# Data Preprocessing\n"
      ],
      "metadata": {
        "id": "h5D9HlLyHDV9"
      }
    },
    {
      "cell_type": "markdown",
      "source": [
        "# Creating pipeline and using one hot encoding\n"
      ],
      "metadata": {
        "id": "wUqJh1zlOqE1"
      }
    },
    {
      "cell_type": "code",
      "source": [
        "# display pipeline\n",
        "#from sklearn import set_config\n",
        "#set_config(display = 'diagram')"
      ],
      "metadata": {
        "id": "-RqdJPhjcjiz"
      },
      "execution_count": null,
      "outputs": []
    },
    {
      "cell_type": "code",
      "source": [
        "X[\"MSZoning\"]= X[\"MSZoning\"].apply(lambda x: x.strip())\n",
        "#X[\"MSZoning\"]= X[\"MSZoning\"].apply(lambda x: x.strip(\"RL\", \"RL\"))\n",
        "X[\"MSZoning\"]= X[\"MSZoning\"].apply(lambda x: x.replace(\"C (all)\", \"C\"))\n",
        "\n",
        "X[\"MSZoning\"].value_counts()"
      ],
      "metadata": {
        "colab": {
          "base_uri": "https://localhost:8080/"
        },
        "id": "VxcZM3p-b25r",
        "outputId": "5737f7c9-8b2f-41a1-8d81-ad88650b1b44"
      },
      "execution_count": null,
      "outputs": [
        {
          "output_type": "execute_result",
          "data": {
            "text/plain": [
              "RL    1151\n",
              "RM     218\n",
              "FV      65\n",
              "RH      16\n",
              "C       10\n",
              "Name: MSZoning, dtype: int64"
            ]
          },
          "metadata": {},
          "execution_count": 20
        }
      ]
    },
    {
      "cell_type": "code",
      "source": [
        "X[\"MSZoning\"].unique()"
      ],
      "metadata": {
        "colab": {
          "base_uri": "https://localhost:8080/"
        },
        "id": "OgH-TjqohzI4",
        "outputId": "81bdbe3d-02ec-4713-b186-e7fbf14681a4"
      },
      "execution_count": null,
      "outputs": [
        {
          "output_type": "execute_result",
          "data": {
            "text/plain": [
              "array(['RL', 'RM', 'C', 'FV', 'RH'], dtype=object)"
            ]
          },
          "metadata": {},
          "execution_count": 21
        }
      ]
    },
    {
      "cell_type": "code",
      "source": [
        "scaler = MinMaxScaler()\n",
        "# select categorical and numerical column names\n",
        "\n",
        "data_cat_columns =X.select_dtypes(exclude=\"number\").copy().columns#[1:]\n",
        "data_num_columns =X.select_dtypes(include=\"number\").copy().columns\n",
        "#data_ord_coloumns = X.select_dtypes(exclude=\"number\").copy().MSZoning\n",
        "\n",
        "# create numerical pipeline, only with the SimpleImputer(strategy=\"mean\")\n",
        "numeric_pipe = make_pipeline(KNNImputer(n_neighbors=5), scaler )\n",
        "                          \n",
        "    \n",
        " \n",
        "# create categorical pipeline, with the SimpleImputer(fill_value=\"N_A\") and the OneHotEncoder\n",
        "categoric_pipe = make_pipeline(\n",
        "    SimpleImputer(strategy=\"most_frequent\"),\n",
        "    OneHotEncoder(handle_unknown = 'ignore')           # using one hot encoder to convert categorical values in numeric value\n",
        ")\n",
        "\n",
        "# create categorical pipeline, with the SimpleImputer(fill_value=\"N_A\") and the OneHotEncoder\n",
        "#unique_elements = X[\"MSZoning\"].unique()\n",
        "#ordinal_pipe = make_pipeline(OrdinalEncoder(categories=[unique_elements], handle_unknown='use_encoded_value', unknown_value=-1))"
      ],
      "metadata": {
        "id": "jwzHZ-DZOpls"
      },
      "execution_count": null,
      "outputs": []
    },
    {
      "cell_type": "code",
      "source": [
        "from sklearn.compose import ColumnTransformer\n",
        "\n",
        "preprocessor = ColumnTransformer(\n",
        "    transformers=[\n",
        "        (\"num_pipe\", numeric_pipe, data_num_columns),\n",
        "        (\"cat_pipe\", categoric_pipe, data_cat_columns)\n",
        "        \n",
        "        \n",
        "    ]\n",
        ")"
      ],
      "metadata": {
        "id": "qaQAdbBkJZql"
      },
      "execution_count": null,
      "outputs": []
    },
    {
      "cell_type": "code",
      "source": [
        "data_num_columns"
      ],
      "metadata": {
        "colab": {
          "base_uri": "https://localhost:8080/"
        },
        "id": "lm2H9sm9JO9p",
        "outputId": "fd6c7ffb-c735-4551-9ef4-adce18da2f57"
      },
      "execution_count": null,
      "outputs": [
        {
          "output_type": "execute_result",
          "data": {
            "text/plain": [
              "Index(['MSSubClass', 'LotFrontage', 'LotArea', 'OverallQual', 'OverallCond',\n",
              "       'YearBuilt', 'YearRemodAdd', 'MasVnrArea', 'BsmtFinSF1', 'BsmtFinSF2',\n",
              "       'BsmtUnfSF', 'TotalBsmtSF', '1stFlrSF', '2ndFlrSF', 'LowQualFinSF',\n",
              "       'GrLivArea', 'BsmtFullBath', 'BsmtHalfBath', 'FullBath', 'HalfBath',\n",
              "       'BedroomAbvGr', 'KitchenAbvGr', 'TotRmsAbvGrd', 'Fireplaces',\n",
              "       'GarageYrBlt', 'GarageCars', 'GarageArea', 'WoodDeckSF', 'OpenPorchSF',\n",
              "       'EnclosedPorch', '3SsnPorch', 'ScreenPorch', 'PoolArea', 'MiscVal',\n",
              "       'MoSold', 'YrSold'],\n",
              "      dtype='object')"
            ]
          },
          "metadata": {},
          "execution_count": 24
        }
      ]
    },
    {
      "cell_type": "code",
      "source": [
        "preprocessor"
      ],
      "metadata": {
        "colab": {
          "base_uri": "https://localhost:8080/"
        },
        "id": "u8DOaOtCJ5_l",
        "outputId": "29d18fbe-792e-4535-8530-565e6032c0e7"
      },
      "execution_count": null,
      "outputs": [
        {
          "output_type": "execute_result",
          "data": {
            "text/plain": [
              "ColumnTransformer(transformers=[('num_pipe',\n",
              "                                 Pipeline(steps=[('knnimputer', KNNImputer()),\n",
              "                                                 ('minmaxscaler',\n",
              "                                                  MinMaxScaler())]),\n",
              "                                 Index(['MSSubClass', 'LotFrontage', 'LotArea', 'OverallQual', 'OverallCond',\n",
              "       'YearBuilt', 'YearRemodAdd', 'MasVnrArea', 'BsmtFinSF1', 'BsmtFinSF2',\n",
              "       'BsmtUnfSF', 'TotalBsmtSF', '1stFlrSF', '2ndFlrSF', 'LowQualFinSF',\n",
              "       'GrLivArea', 'BsmtFullBath',...\n",
              "       'BldgType', 'HouseStyle', 'RoofStyle', 'RoofMatl', 'Exterior1st',\n",
              "       'Exterior2nd', 'MasVnrType', 'ExterQual', 'ExterCond', 'Foundation',\n",
              "       'BsmtQual', 'BsmtCond', 'BsmtExposure', 'BsmtFinType1', 'BsmtFinType2',\n",
              "       'Heating', 'HeatingQC', 'CentralAir', 'Electrical', 'KitchenQual',\n",
              "       'Functional', 'FireplaceQu', 'GarageType', 'GarageFinish', 'GarageQual',\n",
              "       'GarageCond', 'PavedDrive', 'SaleType', 'SaleCondition'],\n",
              "      dtype='object'))])"
            ]
          },
          "metadata": {},
          "execution_count": 25
        }
      ]
    },
    {
      "cell_type": "markdown",
      "source": [
        "# Feature Selection with low Variance\n"
      ],
      "metadata": {
        "id": "FdfEgfMNwbU8"
      }
    },
    {
      "cell_type": "code",
      "source": [
        "X_prep = preprocessor.fit_transform(X)"
      ],
      "metadata": {
        "id": "s3--gMhKovDc"
      },
      "execution_count": null,
      "outputs": []
    },
    {
      "cell_type": "code",
      "source": [
        "X_prep"
      ],
      "metadata": {
        "colab": {
          "base_uri": "https://localhost:8080/"
        },
        "id": "JkZmiPrJ3n-Z",
        "outputId": "f92767cb-3631-452c-a81a-9ee628d69e9d"
      },
      "execution_count": null,
      "outputs": [
        {
          "output_type": "execute_result",
          "data": {
            "text/plain": [
              "<1460x275 sparse matrix of type '<class 'numpy.float64'>'\n",
              "\twith 91016 stored elements in Compressed Sparse Row format>"
            ]
          },
          "metadata": {},
          "execution_count": 27
        }
      ]
    },
    {
      "cell_type": "code",
      "source": [
        "X_prep_df = pd.DataFrame(X_prep.toarray())"
      ],
      "metadata": {
        "id": "_JbW1Mbw6Oh6",
        "colab": {
          "base_uri": "https://localhost:8080/",
          "height": 171
        },
        "outputId": "ca6f875d-783b-4359-e5a5-4389b6435caa"
      },
      "execution_count": null,
      "outputs": [
        {
          "output_type": "error",
          "ename": "NameError",
          "evalue": "ignored",
          "traceback": [
            "\u001b[0;31m---------------------------------------------------------------------------\u001b[0m",
            "\u001b[0;31mNameError\u001b[0m                                 Traceback (most recent call last)",
            "\u001b[0;32m<ipython-input-1-89149e8e0417>\u001b[0m in \u001b[0;36m<module>\u001b[0;34m()\u001b[0m\n\u001b[0;32m----> 1\u001b[0;31m \u001b[0mX_prep_df\u001b[0m \u001b[0;34m=\u001b[0m \u001b[0mpd\u001b[0m\u001b[0;34m.\u001b[0m\u001b[0mDataFrame\u001b[0m\u001b[0;34m(\u001b[0m\u001b[0mX_prep\u001b[0m\u001b[0;34m.\u001b[0m\u001b[0mtoarray\u001b[0m\u001b[0;34m(\u001b[0m\u001b[0;34m)\u001b[0m\u001b[0;34m)\u001b[0m\u001b[0;34m\u001b[0m\u001b[0;34m\u001b[0m\u001b[0m\n\u001b[0m",
            "\u001b[0;31mNameError\u001b[0m: name 'pd' is not defined"
          ]
        }
      ]
    },
    {
      "cell_type": "code",
      "source": [
        "X_prep_df = pd.DataFrame(X_prep_df)\n",
        "#pd.DataFrame(X_prep_df, columns=preprocessor.get_feature_names())\n",
        "\n",
        "#X_prep_df.columns = preprocessor.get_feature_names()\n",
        "X_prep_df"
      ],
      "metadata": {
        "colab": {
          "base_uri": "https://localhost:8080/",
          "height": 487
        },
        "id": "r9g71yHi4fcA",
        "outputId": "78f082c8-38d2-4a34-ff01-3e893be78eb6"
      },
      "execution_count": null,
      "outputs": [
        {
          "output_type": "execute_result",
          "data": {
            "text/plain": [
              "           0         1         2         3      4         5         6    \\\n",
              "0     0.235294  0.150685  0.033420  0.666667  0.500  0.949275  0.883333   \n",
              "1     0.000000  0.202055  0.038795  0.555556  0.875  0.753623  0.433333   \n",
              "2     0.235294  0.160959  0.046507  0.666667  0.500  0.934783  0.866667   \n",
              "3     0.294118  0.133562  0.038561  0.666667  0.500  0.311594  0.333333   \n",
              "4     0.235294  0.215753  0.060576  0.777778  0.500  0.927536  0.833333   \n",
              "...        ...       ...       ...       ...    ...       ...       ...   \n",
              "1455  0.235294  0.140411  0.030929  0.555556  0.500  0.920290  0.833333   \n",
              "1456  0.000000  0.219178  0.055505  0.555556  0.625  0.768116  0.633333   \n",
              "1457  0.294118  0.154110  0.036187  0.666667  1.000  0.500000  0.933333   \n",
              "1458  0.000000  0.160959  0.039342  0.444444  0.625  0.565217  0.766667   \n",
              "1459  0.000000  0.184932  0.040370  0.444444  0.625  0.673913  0.250000   \n",
              "\n",
              "           7         8         9    ...  265  266  267  268  269  270  271  \\\n",
              "0     0.122500  0.125089  0.000000  ...  0.0  0.0  0.0  1.0  0.0  0.0  0.0   \n",
              "1     0.000000  0.173281  0.000000  ...  0.0  0.0  0.0  1.0  0.0  0.0  0.0   \n",
              "2     0.101250  0.086109  0.000000  ...  0.0  0.0  0.0  1.0  0.0  0.0  0.0   \n",
              "3     0.000000  0.038271  0.000000  ...  0.0  0.0  0.0  1.0  1.0  0.0  0.0   \n",
              "4     0.218750  0.116052  0.000000  ...  0.0  0.0  0.0  1.0  0.0  0.0  0.0   \n",
              "...        ...       ...       ...  ...  ...  ...  ...  ...  ...  ...  ...   \n",
              "1455  0.000000  0.000000  0.000000  ...  0.0  0.0  0.0  1.0  0.0  0.0  0.0   \n",
              "1456  0.074375  0.139972  0.110583  ...  0.0  0.0  0.0  1.0  0.0  0.0  0.0   \n",
              "1457  0.000000  0.048724  0.000000  ...  0.0  0.0  0.0  1.0  0.0  0.0  0.0   \n",
              "1458  0.000000  0.008682  0.698100  ...  0.0  0.0  0.0  1.0  0.0  0.0  0.0   \n",
              "1459  0.000000  0.147059  0.196744  ...  0.0  0.0  0.0  1.0  0.0  0.0  0.0   \n",
              "\n",
              "      272  273  274  \n",
              "0     0.0  1.0  0.0  \n",
              "1     0.0  1.0  0.0  \n",
              "2     0.0  1.0  0.0  \n",
              "3     0.0  0.0  0.0  \n",
              "4     0.0  1.0  0.0  \n",
              "...   ...  ...  ...  \n",
              "1455  0.0  1.0  0.0  \n",
              "1456  0.0  1.0  0.0  \n",
              "1457  0.0  1.0  0.0  \n",
              "1458  0.0  1.0  0.0  \n",
              "1459  0.0  1.0  0.0  \n",
              "\n",
              "[1460 rows x 275 columns]"
            ],
            "text/html": [
              "\n",
              "  <div id=\"df-229103b3-24de-424b-a41d-b2c56e2f5aa6\">\n",
              "    <div class=\"colab-df-container\">\n",
              "      <div>\n",
              "<style scoped>\n",
              "    .dataframe tbody tr th:only-of-type {\n",
              "        vertical-align: middle;\n",
              "    }\n",
              "\n",
              "    .dataframe tbody tr th {\n",
              "        vertical-align: top;\n",
              "    }\n",
              "\n",
              "    .dataframe thead th {\n",
              "        text-align: right;\n",
              "    }\n",
              "</style>\n",
              "<table border=\"1\" class=\"dataframe\">\n",
              "  <thead>\n",
              "    <tr style=\"text-align: right;\">\n",
              "      <th></th>\n",
              "      <th>0</th>\n",
              "      <th>1</th>\n",
              "      <th>2</th>\n",
              "      <th>3</th>\n",
              "      <th>4</th>\n",
              "      <th>5</th>\n",
              "      <th>6</th>\n",
              "      <th>7</th>\n",
              "      <th>8</th>\n",
              "      <th>9</th>\n",
              "      <th>...</th>\n",
              "      <th>265</th>\n",
              "      <th>266</th>\n",
              "      <th>267</th>\n",
              "      <th>268</th>\n",
              "      <th>269</th>\n",
              "      <th>270</th>\n",
              "      <th>271</th>\n",
              "      <th>272</th>\n",
              "      <th>273</th>\n",
              "      <th>274</th>\n",
              "    </tr>\n",
              "  </thead>\n",
              "  <tbody>\n",
              "    <tr>\n",
              "      <th>0</th>\n",
              "      <td>0.235294</td>\n",
              "      <td>0.150685</td>\n",
              "      <td>0.033420</td>\n",
              "      <td>0.666667</td>\n",
              "      <td>0.500</td>\n",
              "      <td>0.949275</td>\n",
              "      <td>0.883333</td>\n",
              "      <td>0.122500</td>\n",
              "      <td>0.125089</td>\n",
              "      <td>0.000000</td>\n",
              "      <td>...</td>\n",
              "      <td>0.0</td>\n",
              "      <td>0.0</td>\n",
              "      <td>0.0</td>\n",
              "      <td>1.0</td>\n",
              "      <td>0.0</td>\n",
              "      <td>0.0</td>\n",
              "      <td>0.0</td>\n",
              "      <td>0.0</td>\n",
              "      <td>1.0</td>\n",
              "      <td>0.0</td>\n",
              "    </tr>\n",
              "    <tr>\n",
              "      <th>1</th>\n",
              "      <td>0.000000</td>\n",
              "      <td>0.202055</td>\n",
              "      <td>0.038795</td>\n",
              "      <td>0.555556</td>\n",
              "      <td>0.875</td>\n",
              "      <td>0.753623</td>\n",
              "      <td>0.433333</td>\n",
              "      <td>0.000000</td>\n",
              "      <td>0.173281</td>\n",
              "      <td>0.000000</td>\n",
              "      <td>...</td>\n",
              "      <td>0.0</td>\n",
              "      <td>0.0</td>\n",
              "      <td>0.0</td>\n",
              "      <td>1.0</td>\n",
              "      <td>0.0</td>\n",
              "      <td>0.0</td>\n",
              "      <td>0.0</td>\n",
              "      <td>0.0</td>\n",
              "      <td>1.0</td>\n",
              "      <td>0.0</td>\n",
              "    </tr>\n",
              "    <tr>\n",
              "      <th>2</th>\n",
              "      <td>0.235294</td>\n",
              "      <td>0.160959</td>\n",
              "      <td>0.046507</td>\n",
              "      <td>0.666667</td>\n",
              "      <td>0.500</td>\n",
              "      <td>0.934783</td>\n",
              "      <td>0.866667</td>\n",
              "      <td>0.101250</td>\n",
              "      <td>0.086109</td>\n",
              "      <td>0.000000</td>\n",
              "      <td>...</td>\n",
              "      <td>0.0</td>\n",
              "      <td>0.0</td>\n",
              "      <td>0.0</td>\n",
              "      <td>1.0</td>\n",
              "      <td>0.0</td>\n",
              "      <td>0.0</td>\n",
              "      <td>0.0</td>\n",
              "      <td>0.0</td>\n",
              "      <td>1.0</td>\n",
              "      <td>0.0</td>\n",
              "    </tr>\n",
              "    <tr>\n",
              "      <th>3</th>\n",
              "      <td>0.294118</td>\n",
              "      <td>0.133562</td>\n",
              "      <td>0.038561</td>\n",
              "      <td>0.666667</td>\n",
              "      <td>0.500</td>\n",
              "      <td>0.311594</td>\n",
              "      <td>0.333333</td>\n",
              "      <td>0.000000</td>\n",
              "      <td>0.038271</td>\n",
              "      <td>0.000000</td>\n",
              "      <td>...</td>\n",
              "      <td>0.0</td>\n",
              "      <td>0.0</td>\n",
              "      <td>0.0</td>\n",
              "      <td>1.0</td>\n",
              "      <td>1.0</td>\n",
              "      <td>0.0</td>\n",
              "      <td>0.0</td>\n",
              "      <td>0.0</td>\n",
              "      <td>0.0</td>\n",
              "      <td>0.0</td>\n",
              "    </tr>\n",
              "    <tr>\n",
              "      <th>4</th>\n",
              "      <td>0.235294</td>\n",
              "      <td>0.215753</td>\n",
              "      <td>0.060576</td>\n",
              "      <td>0.777778</td>\n",
              "      <td>0.500</td>\n",
              "      <td>0.927536</td>\n",
              "      <td>0.833333</td>\n",
              "      <td>0.218750</td>\n",
              "      <td>0.116052</td>\n",
              "      <td>0.000000</td>\n",
              "      <td>...</td>\n",
              "      <td>0.0</td>\n",
              "      <td>0.0</td>\n",
              "      <td>0.0</td>\n",
              "      <td>1.0</td>\n",
              "      <td>0.0</td>\n",
              "      <td>0.0</td>\n",
              "      <td>0.0</td>\n",
              "      <td>0.0</td>\n",
              "      <td>1.0</td>\n",
              "      <td>0.0</td>\n",
              "    </tr>\n",
              "    <tr>\n",
              "      <th>...</th>\n",
              "      <td>...</td>\n",
              "      <td>...</td>\n",
              "      <td>...</td>\n",
              "      <td>...</td>\n",
              "      <td>...</td>\n",
              "      <td>...</td>\n",
              "      <td>...</td>\n",
              "      <td>...</td>\n",
              "      <td>...</td>\n",
              "      <td>...</td>\n",
              "      <td>...</td>\n",
              "      <td>...</td>\n",
              "      <td>...</td>\n",
              "      <td>...</td>\n",
              "      <td>...</td>\n",
              "      <td>...</td>\n",
              "      <td>...</td>\n",
              "      <td>...</td>\n",
              "      <td>...</td>\n",
              "      <td>...</td>\n",
              "      <td>...</td>\n",
              "    </tr>\n",
              "    <tr>\n",
              "      <th>1455</th>\n",
              "      <td>0.235294</td>\n",
              "      <td>0.140411</td>\n",
              "      <td>0.030929</td>\n",
              "      <td>0.555556</td>\n",
              "      <td>0.500</td>\n",
              "      <td>0.920290</td>\n",
              "      <td>0.833333</td>\n",
              "      <td>0.000000</td>\n",
              "      <td>0.000000</td>\n",
              "      <td>0.000000</td>\n",
              "      <td>...</td>\n",
              "      <td>0.0</td>\n",
              "      <td>0.0</td>\n",
              "      <td>0.0</td>\n",
              "      <td>1.0</td>\n",
              "      <td>0.0</td>\n",
              "      <td>0.0</td>\n",
              "      <td>0.0</td>\n",
              "      <td>0.0</td>\n",
              "      <td>1.0</td>\n",
              "      <td>0.0</td>\n",
              "    </tr>\n",
              "    <tr>\n",
              "      <th>1456</th>\n",
              "      <td>0.000000</td>\n",
              "      <td>0.219178</td>\n",
              "      <td>0.055505</td>\n",
              "      <td>0.555556</td>\n",
              "      <td>0.625</td>\n",
              "      <td>0.768116</td>\n",
              "      <td>0.633333</td>\n",
              "      <td>0.074375</td>\n",
              "      <td>0.139972</td>\n",
              "      <td>0.110583</td>\n",
              "      <td>...</td>\n",
              "      <td>0.0</td>\n",
              "      <td>0.0</td>\n",
              "      <td>0.0</td>\n",
              "      <td>1.0</td>\n",
              "      <td>0.0</td>\n",
              "      <td>0.0</td>\n",
              "      <td>0.0</td>\n",
              "      <td>0.0</td>\n",
              "      <td>1.0</td>\n",
              "      <td>0.0</td>\n",
              "    </tr>\n",
              "    <tr>\n",
              "      <th>1457</th>\n",
              "      <td>0.294118</td>\n",
              "      <td>0.154110</td>\n",
              "      <td>0.036187</td>\n",
              "      <td>0.666667</td>\n",
              "      <td>1.000</td>\n",
              "      <td>0.500000</td>\n",
              "      <td>0.933333</td>\n",
              "      <td>0.000000</td>\n",
              "      <td>0.048724</td>\n",
              "      <td>0.000000</td>\n",
              "      <td>...</td>\n",
              "      <td>0.0</td>\n",
              "      <td>0.0</td>\n",
              "      <td>0.0</td>\n",
              "      <td>1.0</td>\n",
              "      <td>0.0</td>\n",
              "      <td>0.0</td>\n",
              "      <td>0.0</td>\n",
              "      <td>0.0</td>\n",
              "      <td>1.0</td>\n",
              "      <td>0.0</td>\n",
              "    </tr>\n",
              "    <tr>\n",
              "      <th>1458</th>\n",
              "      <td>0.000000</td>\n",
              "      <td>0.160959</td>\n",
              "      <td>0.039342</td>\n",
              "      <td>0.444444</td>\n",
              "      <td>0.625</td>\n",
              "      <td>0.565217</td>\n",
              "      <td>0.766667</td>\n",
              "      <td>0.000000</td>\n",
              "      <td>0.008682</td>\n",
              "      <td>0.698100</td>\n",
              "      <td>...</td>\n",
              "      <td>0.0</td>\n",
              "      <td>0.0</td>\n",
              "      <td>0.0</td>\n",
              "      <td>1.0</td>\n",
              "      <td>0.0</td>\n",
              "      <td>0.0</td>\n",
              "      <td>0.0</td>\n",
              "      <td>0.0</td>\n",
              "      <td>1.0</td>\n",
              "      <td>0.0</td>\n",
              "    </tr>\n",
              "    <tr>\n",
              "      <th>1459</th>\n",
              "      <td>0.000000</td>\n",
              "      <td>0.184932</td>\n",
              "      <td>0.040370</td>\n",
              "      <td>0.444444</td>\n",
              "      <td>0.625</td>\n",
              "      <td>0.673913</td>\n",
              "      <td>0.250000</td>\n",
              "      <td>0.000000</td>\n",
              "      <td>0.147059</td>\n",
              "      <td>0.196744</td>\n",
              "      <td>...</td>\n",
              "      <td>0.0</td>\n",
              "      <td>0.0</td>\n",
              "      <td>0.0</td>\n",
              "      <td>1.0</td>\n",
              "      <td>0.0</td>\n",
              "      <td>0.0</td>\n",
              "      <td>0.0</td>\n",
              "      <td>0.0</td>\n",
              "      <td>1.0</td>\n",
              "      <td>0.0</td>\n",
              "    </tr>\n",
              "  </tbody>\n",
              "</table>\n",
              "<p>1460 rows × 275 columns</p>\n",
              "</div>\n",
              "      <button class=\"colab-df-convert\" onclick=\"convertToInteractive('df-229103b3-24de-424b-a41d-b2c56e2f5aa6')\"\n",
              "              title=\"Convert this dataframe to an interactive table.\"\n",
              "              style=\"display:none;\">\n",
              "        \n",
              "  <svg xmlns=\"http://www.w3.org/2000/svg\" height=\"24px\"viewBox=\"0 0 24 24\"\n",
              "       width=\"24px\">\n",
              "    <path d=\"M0 0h24v24H0V0z\" fill=\"none\"/>\n",
              "    <path d=\"M18.56 5.44l.94 2.06.94-2.06 2.06-.94-2.06-.94-.94-2.06-.94 2.06-2.06.94zm-11 1L8.5 8.5l.94-2.06 2.06-.94-2.06-.94L8.5 2.5l-.94 2.06-2.06.94zm10 10l.94 2.06.94-2.06 2.06-.94-2.06-.94-.94-2.06-.94 2.06-2.06.94z\"/><path d=\"M17.41 7.96l-1.37-1.37c-.4-.4-.92-.59-1.43-.59-.52 0-1.04.2-1.43.59L10.3 9.45l-7.72 7.72c-.78.78-.78 2.05 0 2.83L4 21.41c.39.39.9.59 1.41.59.51 0 1.02-.2 1.41-.59l7.78-7.78 2.81-2.81c.8-.78.8-2.07 0-2.86zM5.41 20L4 18.59l7.72-7.72 1.47 1.35L5.41 20z\"/>\n",
              "  </svg>\n",
              "      </button>\n",
              "      \n",
              "  <style>\n",
              "    .colab-df-container {\n",
              "      display:flex;\n",
              "      flex-wrap:wrap;\n",
              "      gap: 12px;\n",
              "    }\n",
              "\n",
              "    .colab-df-convert {\n",
              "      background-color: #E8F0FE;\n",
              "      border: none;\n",
              "      border-radius: 50%;\n",
              "      cursor: pointer;\n",
              "      display: none;\n",
              "      fill: #1967D2;\n",
              "      height: 32px;\n",
              "      padding: 0 0 0 0;\n",
              "      width: 32px;\n",
              "    }\n",
              "\n",
              "    .colab-df-convert:hover {\n",
              "      background-color: #E2EBFA;\n",
              "      box-shadow: 0px 1px 2px rgba(60, 64, 67, 0.3), 0px 1px 3px 1px rgba(60, 64, 67, 0.15);\n",
              "      fill: #174EA6;\n",
              "    }\n",
              "\n",
              "    [theme=dark] .colab-df-convert {\n",
              "      background-color: #3B4455;\n",
              "      fill: #D2E3FC;\n",
              "    }\n",
              "\n",
              "    [theme=dark] .colab-df-convert:hover {\n",
              "      background-color: #434B5C;\n",
              "      box-shadow: 0px 1px 3px 1px rgba(0, 0, 0, 0.15);\n",
              "      filter: drop-shadow(0px 1px 2px rgba(0, 0, 0, 0.3));\n",
              "      fill: #FFFFFF;\n",
              "    }\n",
              "  </style>\n",
              "\n",
              "      <script>\n",
              "        const buttonEl =\n",
              "          document.querySelector('#df-229103b3-24de-424b-a41d-b2c56e2f5aa6 button.colab-df-convert');\n",
              "        buttonEl.style.display =\n",
              "          google.colab.kernel.accessAllowed ? 'block' : 'none';\n",
              "\n",
              "        async function convertToInteractive(key) {\n",
              "          const element = document.querySelector('#df-229103b3-24de-424b-a41d-b2c56e2f5aa6');\n",
              "          const dataTable =\n",
              "            await google.colab.kernel.invokeFunction('convertToInteractive',\n",
              "                                                     [key], {});\n",
              "          if (!dataTable) return;\n",
              "\n",
              "          const docLinkHtml = 'Like what you see? Visit the ' +\n",
              "            '<a target=\"_blank\" href=https://colab.research.google.com/notebooks/data_table.ipynb>data table notebook</a>'\n",
              "            + ' to learn more about interactive tables.';\n",
              "          element.innerHTML = '';\n",
              "          dataTable['output_type'] = 'display_data';\n",
              "          await google.colab.output.renderOutput(dataTable, element);\n",
              "          const docLink = document.createElement('div');\n",
              "          docLink.innerHTML = docLinkHtml;\n",
              "          element.appendChild(docLink);\n",
              "        }\n",
              "      </script>\n",
              "    </div>\n",
              "  </div>\n",
              "  "
            ]
          },
          "metadata": {},
          "execution_count": 29
        }
      ]
    },
    {
      "cell_type": "code",
      "source": [
        "#colnames = my_onehot.get_feature_names_out(X_cat_imputed.columns)\n",
        "#df.columns = colnames\n",
        "#df.head()"
      ],
      "metadata": {
        "id": "l_2K9xUKEYdk"
      },
      "execution_count": null,
      "outputs": []
    },
    {
      "cell_type": "markdown",
      "source": [
        "# Feature Selection using low variance"
      ],
      "metadata": {
        "id": "g_7kNlsjbJ3F"
      }
    },
    {
      "cell_type": "code",
      "source": [
        "# looking at the varience of all the features\n",
        "X_prep_df.var().sort_values().to_list()"
      ],
      "metadata": {
        "id": "TNU8EE3f_GWs"
      },
      "execution_count": null,
      "outputs": []
    },
    {
      "cell_type": "code",
      "source": [
        "# Create VarianceThreshold object with a variance with a threshold of 0.2\n",
        "var_thr = VarianceThreshold(threshold = 0.009) #Removing both constant and quasi-constant\n",
        "var_thr.fit(X_prep_df)      # dropping coloumn based on the low variance(threshold)\n",
        "\n",
        "var_thr.get_support()\n",
        "#array([False,  True,  True,  True,  True,  True,  True,  True, False])\n",
        "X_prep_var = var_thr.fit_transform(X_prep_df)\n",
        "\n",
        "\n",
        "X_prep_var\n",
        "\n"
      ],
      "metadata": {
        "id": "BOd4P6frxOFc",
        "colab": {
          "base_uri": "https://localhost:8080/"
        },
        "outputId": "9bff18c3-364d-4436-a1b3-ffb045698e4f"
      },
      "execution_count": null,
      "outputs": [
        {
          "output_type": "execute_result",
          "data": {
            "text/plain": [
              "array([[0.23529412, 0.66666667, 0.5       , ..., 0.        , 1.        ,\n",
              "        0.        ],\n",
              "       [0.        , 0.55555556, 0.875     , ..., 0.        , 1.        ,\n",
              "        0.        ],\n",
              "       [0.23529412, 0.66666667, 0.5       , ..., 0.        , 1.        ,\n",
              "        0.        ],\n",
              "       ...,\n",
              "       [0.29411765, 0.66666667, 1.        , ..., 0.        , 1.        ,\n",
              "        0.        ],\n",
              "       [0.        , 0.44444444, 0.625     , ..., 0.        , 1.        ,\n",
              "        0.        ],\n",
              "       [0.        , 0.44444444, 0.625     , ..., 0.        , 1.        ,\n",
              "        0.        ]])"
            ]
          },
          "metadata": {},
          "execution_count": 32
        }
      ]
    },
    {
      "cell_type": "code",
      "source": [
        "print(\"shape before:\", X_prep_df.shape)\n",
        "print(\"shape after:\", X_prep_var.shape)"
      ],
      "metadata": {
        "colab": {
          "base_uri": "https://localhost:8080/"
        },
        "id": "z0KerUioRO-M",
        "outputId": "8d0836ce-4197-4f41-fdac-2845d1cb141b"
      },
      "execution_count": null,
      "outputs": [
        {
          "output_type": "stream",
          "name": "stdout",
          "text": [
            "shape before: (1460, 275)\n",
            "shape after: (1460, 190)\n"
          ]
        }
      ]
    },
    {
      "cell_type": "markdown",
      "source": [
        "# Splitting test-train data"
      ],
      "metadata": {
        "id": "SJGn40uaT1lS"
      }
    },
    {
      "cell_type": "code",
      "source": [
        "# spliiting test-train set of the data after selecting features\n",
        "from sklearn.model_selection import train_test_split\n",
        "\n",
        "X_train, X_test, y_train, y_test = train_test_split(X_prep_var, y, test_size=0.2, random_state=123)\n"
      ],
      "metadata": {
        "id": "J8Wn8znJbI5d"
      },
      "execution_count": null,
      "outputs": []
    },
    {
      "cell_type": "code",
      "source": [
        "X_train"
      ],
      "metadata": {
        "colab": {
          "base_uri": "https://localhost:8080/"
        },
        "id": "PGNSfAprWve9",
        "outputId": "75a23848-c512-4f7d-c560-c9eb4300db68"
      },
      "execution_count": null,
      "outputs": [
        {
          "output_type": "execute_result",
          "data": {
            "text/plain": [
              "array([[0.23529412, 0.66666667, 0.5       , ..., 0.        , 1.        ,\n",
              "        0.        ],\n",
              "       [0.        , 0.55555556, 0.625     , ..., 0.        , 1.        ,\n",
              "        0.        ],\n",
              "       [0.23529412, 0.55555556, 0.75      , ..., 0.        , 1.        ,\n",
              "        0.        ],\n",
              "       ...,\n",
              "       [0.        , 0.66666667, 0.75      , ..., 0.        , 1.        ,\n",
              "        0.        ],\n",
              "       [0.38235294, 0.44444444, 0.75      , ..., 0.        , 1.        ,\n",
              "        0.        ],\n",
              "       [0.17647059, 0.55555556, 0.625     , ..., 0.        , 1.        ,\n",
              "        0.        ]])"
            ]
          },
          "metadata": {},
          "execution_count": 35
        }
      ]
    },
    {
      "cell_type": "code",
      "source": [
        "y_test"
      ],
      "metadata": {
        "colab": {
          "base_uri": "https://localhost:8080/"
        },
        "id": "a0ONLixMWvRi",
        "outputId": "88940959-455b-43d3-edf0-dfdde04d9224"
      },
      "execution_count": null,
      "outputs": [
        {
          "output_type": "execute_result",
          "data": {
            "text/plain": [
              "147     222500\n",
              "676      87000\n",
              "1304    130000\n",
              "1372    274300\n",
              "1427    140000\n",
              "         ...  \n",
              "1012    165000\n",
              "1059    220000\n",
              "890     122900\n",
              "628     135000\n",
              "352      95000\n",
              "Name: SalePrice, Length: 292, dtype: int64"
            ]
          },
          "metadata": {},
          "execution_count": 36
        }
      ]
    },
    {
      "cell_type": "markdown",
      "source": [
        "# Linear Regression model"
      ],
      "metadata": {
        "id": "MOAxWACxWntb"
      }
    },
    {
      "cell_type": "code",
      "source": [
        "# linear regression model after feature dropped using low variance\n",
        "from sklearn.linear_model import LinearRegression\n",
        "\n",
        "lm = LinearRegression()\n",
        "lm.fit(np.array(X_train), y_train)\n"
      ],
      "metadata": {
        "colab": {
          "base_uri": "https://localhost:8080/"
        },
        "id": "RSg5FR37ULhk",
        "outputId": "a81d1909-c2e8-481c-d774-0eccc9020e0a"
      },
      "execution_count": null,
      "outputs": [
        {
          "output_type": "execute_result",
          "data": {
            "text/plain": [
              "LinearRegression()"
            ]
          },
          "metadata": {},
          "execution_count": 37
        }
      ]
    },
    {
      "cell_type": "code",
      "source": [
        "print(\n",
        "    lm.coef_, \n",
        "    lm.intercept_\n",
        "    )"
      ],
      "metadata": {
        "colab": {
          "base_uri": "https://localhost:8080/"
        },
        "id": "w5HIvvEhXO6E",
        "outputId": "b5fab964-f841-46fd-e552-47a26b3dd73f"
      },
      "execution_count": null,
      "outputs": [
        {
          "output_type": "stream",
          "name": "stdout",
          "text": [
            "[-1.56515651e+04  6.75733504e+04  3.91827168e+04  1.25526680e+04\n",
            "  3.17236900e+03  7.12400967e+03  1.58344536e+03 -9.13646580e+03\n",
            "  3.54762834e+04  2.55949572e+05  2.21776930e+04  4.98068878e+03\n",
            "  1.91477818e+04  4.17415588e+03 -3.12151755e+04  2.62687995e+04\n",
            "  1.37612809e+04 -3.59367960e+03  6.30094281e+04 -3.23217336e+04\n",
            "  1.66923130e+04 -1.30690503e+02  4.30001474e+03  1.18613069e+04\n",
            " -1.52994583e+03 -1.64301556e+03  3.97993041e+04  3.41311988e+04\n",
            "  3.68087858e+04  3.23753196e+04  2.52318485e+04  3.26210052e+04\n",
            "  2.46677655e+04 -5.63850584e+14 -5.63850584e+14 -5.63850584e+14\n",
            " -5.63850584e+14  5.89948278e+03  1.40281612e+04 -1.91255330e+03\n",
            "  4.50737924e+03 -2.07607003e+03  1.02055401e+04 -1.57522306e+03\n",
            "  1.19707818e+04 -2.46988838e+03 -1.06561751e+04 -4.54084727e+03\n",
            "  9.84987586e+03 -2.24613345e+04 -1.29859265e+04 -7.71582239e+03\n",
            "  1.01289359e+03 -2.01510633e+04 -1.57503141e+04 -1.32923469e+04\n",
            "  4.55567287e+04  3.88455050e+04 -1.68646855e+04 -9.84074064e+03\n",
            " -1.45949744e+04 -3.61275050e+03  1.57007833e+04  4.14186096e+04\n",
            " -6.18988485e+03  1.08692336e+03 -9.61523677e+01  1.30289465e+04\n",
            " -3.91067539e+03  1.22520765e+04  1.75231079e+04 -2.26472001e+17\n",
            " -2.26472001e+17 -2.26472001e+17 -2.26472001e+17 -2.26472001e+17\n",
            "  1.37737867e+04  3.70986698e+04  3.07730577e+04  5.85019185e+03\n",
            "  2.25063172e+04  2.12304560e+04 -5.98658796e+02  9.72341924e+02\n",
            " -3.46879834e+03  2.65338187e+04  4.04604941e+04  3.66076923e+04\n",
            "  1.28847342e+04  2.37326494e+04  2.31708849e+04  1.52730175e+04\n",
            "  1.72430829e+04  2.02705366e+04  2.27387423e+04 -1.54380389e+04\n",
            " -1.43129994e+04 -3.24114628e+04 -1.12663815e+04 -1.92251170e+04\n",
            " -1.73579495e+04 -3.08718030e+04 -9.60201474e+03 -1.76193652e+04\n",
            " -2.30965392e+04  5.87091104e+16  5.87091104e+16  5.87091104e+16\n",
            "  5.87091104e+16  4.44105071e+14  4.44105071e+14  4.44105071e+14\n",
            "  4.44105071e+14 -1.46615167e+04 -2.21869781e+04 -1.75780618e+04\n",
            "  2.12554380e+03  1.06353446e+04  1.05493593e+04 -4.05697542e+03\n",
            "  1.63976152e+16  1.63976152e+16  1.63976152e+16  1.63976152e+16\n",
            " -1.28633703e+04 -7.78970425e+03 -9.24540615e+03 -8.11376811e+16\n",
            " -8.11376811e+16 -8.11376811e+16 -8.11376811e+16  2.15117366e+16\n",
            "  2.15117366e+16  2.15117366e+16  2.15117366e+16  2.15117366e+16\n",
            "  2.15117366e+16  7.95964318e+15  7.95964318e+15  7.95964318e+15\n",
            "  7.95964318e+15  7.95964318e+15  7.95964318e+15  1.60480554e+04\n",
            "  3.28939178e+04  3.73369085e+04  3.99340229e+04  3.46559598e+04\n",
            "  3.70269549e+04 -3.65273934e+16 -3.65273934e+16 -1.72444218e+03\n",
            " -3.97979494e+03 -2.31887086e+02  6.22778272e+16  6.22778272e+16\n",
            "  6.22778272e+16  6.22778272e+16  2.14395465e+04  2.68646105e+04\n",
            "  2.82459911e+04  2.70023257e+04  3.91861983e+04  4.67954570e+15\n",
            "  4.67954570e+15  4.67954570e+15  4.67954570e+15  4.67954570e+15\n",
            "  8.40653364e+03  4.05595456e+03  2.55926394e+03  8.08378327e+03\n",
            "  3.06138365e+16  3.06138365e+16  3.06138365e+16 -1.03036943e+04\n",
            "  7.81561275e+03 -2.91189533e+03 -2.42079391e+03  6.44199560e+03\n",
            "  8.71754817e+16  8.71754817e+16  8.71754817e+16 -1.73665374e+04\n",
            "  1.71869559e+04 -1.52493192e+04 -7.08229087e+03 -1.35436825e+04\n",
            " -2.52790795e+03 -2.70718904e+04] 5.49320243917612e+16\n"
          ]
        }
      ]
    },
    {
      "cell_type": "markdown",
      "source": [
        "# Results on test set"
      ],
      "metadata": {
        "id": "Hb3hTdPDYYjH"
      }
    },
    {
      "cell_type": "code",
      "source": [
        "lm.predict(np.array(X_test))"
      ],
      "metadata": {
        "colab": {
          "base_uri": "https://localhost:8080/"
        },
        "id": "ai7I74fIXOz8",
        "outputId": "e0bada94-74fe-4b73-9a43-4c9c13fd6064"
      },
      "execution_count": null,
      "outputs": [
        {
          "output_type": "execute_result",
          "data": {
            "text/plain": [
              "array([216624.,  97096., 116176., 245232., 115096., 198640., 332048.,\n",
              "       131184., 151920., 112200., 150064., 232112., 137856., 104416.,\n",
              "       273440., 210504., 138928., 343152., 215696., 206672., 155208.,\n",
              "       181688., 130120., 157960., 206592., 150608., 239920., 150728.,\n",
              "       110048., 128608., 134880., 215152., 108400., 181792., 335504.,\n",
              "       193520., 166560., 344144., 192376.,  95536., 146112., 186672.,\n",
              "       238384., 152240., 195760., 117024., 335152., 261152., 232464.,\n",
              "       109240., 228280., 212240., 149728., 156592., 119552., 158576.,\n",
              "       131888., 169040., 229232., 407552., 116464., 331552.,  95824.,\n",
              "       204288., 207488., 137904., 110640., 218768., 225552., 151528.,\n",
              "       158560., 146112., 152688., 257280., 145120., 151968., 191184.,\n",
              "       134624., 216592., 103152., 317200., 269664.,  89120., 136720.,\n",
              "       161416., 132736.,  85064., 141440.,  35472., 260976., 119200.,\n",
              "       169744., 165616., 196048., 133616., 122640., 213888.,  87712.,\n",
              "       221904., 140752., 108160., 419360., 351984., 139120., 213672.,\n",
              "        83968., 139264., 211400., 165200., 333056., 305232., 273560.,\n",
              "        90352., 249104., 211056., 147216., 166608., 398896.,  94352.,\n",
              "       143952., 168624., 189520., 230128., 137944., 293936., 238576.,\n",
              "       139712., 135616., 165584., 311760.,  83128., 361520., 297264.,\n",
              "       197552., 249136., 159232., 383056., 136800., 194064., 158288.,\n",
              "        70512., 242736., 226608., 133552., 194576., 261376., 207488.,\n",
              "       169984., 190544., 110064., 213760., 114240., 398032., 175088.,\n",
              "       277256., 149200., 245744., 118176., 132160., 142480., 466160.,\n",
              "       223536., 270400., 136992., 220752.,  64256., 150896., 138632.,\n",
              "       181880., 108528., 126016., 114080., 252192., 198496., 151744.,\n",
              "       309296., 176720., 114072., 225280., 225360., 184600., 119648.,\n",
              "       135760., 144656., 175128., 148560., 120568., 211856., 191104.,\n",
              "       175976., 119768., 137944., 189712., 230032., 124560., 305952.,\n",
              "       149616., 129312., 206672., 121040., 176336., 318672., 187168.,\n",
              "       305424., 169472., 121536., 106976., 325904., 181120., 205744.,\n",
              "       173664., 359248., 119328., 152816., 176656., 237968., 197584.,\n",
              "       140576., 154048.,  99424., 177296.,  59840., 127216., 113040.,\n",
              "       117792., 126112., 165456., 121680., 141920., 122608.,  79280.,\n",
              "       141008., 172400., 127056.,  97896., 171904., 246512., 114640.,\n",
              "       185424.,  97448., 299472., 232376., 191824., 218928., 112832.,\n",
              "       222032., 168464., 233616., 112080., 242480., 231312., 134016.,\n",
              "       222576., 110152., 188208., 251280., 310000., 237656., 175408.,\n",
              "       105648., 199568., 205840., 175720., 191584., 166568., 146216.,\n",
              "       147376., 209024.,  47008., 111176., 118608.,  51040., 194096.,\n",
              "        99760., 252208., 187984., 177552., 195536., 161896., 108200.,\n",
              "       139016., 149968., 115824., 131992., 170160., 115312., 166544.,\n",
              "       167056., 239792., 104304., 202256., 107920.])"
            ]
          },
          "metadata": {},
          "execution_count": 39
        }
      ]
    },
    {
      "cell_type": "code",
      "source": [
        "results = pd.DataFrame({\n",
        "    'predictions':lm.predict(np.array(X_test)),\n",
        "    'true_values':y_test\n",
        "})\n",
        "results"
      ],
      "metadata": {
        "colab": {
          "base_uri": "https://localhost:8080/",
          "height": 423
        },
        "id": "7_yxWSp0ZwbJ",
        "outputId": "2574bc0e-41ce-4818-d547-d5755e026e63"
      },
      "execution_count": null,
      "outputs": [
        {
          "output_type": "execute_result",
          "data": {
            "text/plain": [
              "      predictions  true_values\n",
              "147      216624.0       222500\n",
              "676       97096.0        87000\n",
              "1304     116176.0       130000\n",
              "1372     245232.0       274300\n",
              "1427     115096.0       140000\n",
              "...           ...          ...\n",
              "1012     167056.0       165000\n",
              "1059     239792.0       220000\n",
              "890      104304.0       122900\n",
              "628      202256.0       135000\n",
              "352      107920.0        95000\n",
              "\n",
              "[292 rows x 2 columns]"
            ],
            "text/html": [
              "\n",
              "  <div id=\"df-8a958425-16f6-4296-91c5-7b2db8fd0f65\">\n",
              "    <div class=\"colab-df-container\">\n",
              "      <div>\n",
              "<style scoped>\n",
              "    .dataframe tbody tr th:only-of-type {\n",
              "        vertical-align: middle;\n",
              "    }\n",
              "\n",
              "    .dataframe tbody tr th {\n",
              "        vertical-align: top;\n",
              "    }\n",
              "\n",
              "    .dataframe thead th {\n",
              "        text-align: right;\n",
              "    }\n",
              "</style>\n",
              "<table border=\"1\" class=\"dataframe\">\n",
              "  <thead>\n",
              "    <tr style=\"text-align: right;\">\n",
              "      <th></th>\n",
              "      <th>predictions</th>\n",
              "      <th>true_values</th>\n",
              "    </tr>\n",
              "  </thead>\n",
              "  <tbody>\n",
              "    <tr>\n",
              "      <th>147</th>\n",
              "      <td>216624.0</td>\n",
              "      <td>222500</td>\n",
              "    </tr>\n",
              "    <tr>\n",
              "      <th>676</th>\n",
              "      <td>97096.0</td>\n",
              "      <td>87000</td>\n",
              "    </tr>\n",
              "    <tr>\n",
              "      <th>1304</th>\n",
              "      <td>116176.0</td>\n",
              "      <td>130000</td>\n",
              "    </tr>\n",
              "    <tr>\n",
              "      <th>1372</th>\n",
              "      <td>245232.0</td>\n",
              "      <td>274300</td>\n",
              "    </tr>\n",
              "    <tr>\n",
              "      <th>1427</th>\n",
              "      <td>115096.0</td>\n",
              "      <td>140000</td>\n",
              "    </tr>\n",
              "    <tr>\n",
              "      <th>...</th>\n",
              "      <td>...</td>\n",
              "      <td>...</td>\n",
              "    </tr>\n",
              "    <tr>\n",
              "      <th>1012</th>\n",
              "      <td>167056.0</td>\n",
              "      <td>165000</td>\n",
              "    </tr>\n",
              "    <tr>\n",
              "      <th>1059</th>\n",
              "      <td>239792.0</td>\n",
              "      <td>220000</td>\n",
              "    </tr>\n",
              "    <tr>\n",
              "      <th>890</th>\n",
              "      <td>104304.0</td>\n",
              "      <td>122900</td>\n",
              "    </tr>\n",
              "    <tr>\n",
              "      <th>628</th>\n",
              "      <td>202256.0</td>\n",
              "      <td>135000</td>\n",
              "    </tr>\n",
              "    <tr>\n",
              "      <th>352</th>\n",
              "      <td>107920.0</td>\n",
              "      <td>95000</td>\n",
              "    </tr>\n",
              "  </tbody>\n",
              "</table>\n",
              "<p>292 rows × 2 columns</p>\n",
              "</div>\n",
              "      <button class=\"colab-df-convert\" onclick=\"convertToInteractive('df-8a958425-16f6-4296-91c5-7b2db8fd0f65')\"\n",
              "              title=\"Convert this dataframe to an interactive table.\"\n",
              "              style=\"display:none;\">\n",
              "        \n",
              "  <svg xmlns=\"http://www.w3.org/2000/svg\" height=\"24px\"viewBox=\"0 0 24 24\"\n",
              "       width=\"24px\">\n",
              "    <path d=\"M0 0h24v24H0V0z\" fill=\"none\"/>\n",
              "    <path d=\"M18.56 5.44l.94 2.06.94-2.06 2.06-.94-2.06-.94-.94-2.06-.94 2.06-2.06.94zm-11 1L8.5 8.5l.94-2.06 2.06-.94-2.06-.94L8.5 2.5l-.94 2.06-2.06.94zm10 10l.94 2.06.94-2.06 2.06-.94-2.06-.94-.94-2.06-.94 2.06-2.06.94z\"/><path d=\"M17.41 7.96l-1.37-1.37c-.4-.4-.92-.59-1.43-.59-.52 0-1.04.2-1.43.59L10.3 9.45l-7.72 7.72c-.78.78-.78 2.05 0 2.83L4 21.41c.39.39.9.59 1.41.59.51 0 1.02-.2 1.41-.59l7.78-7.78 2.81-2.81c.8-.78.8-2.07 0-2.86zM5.41 20L4 18.59l7.72-7.72 1.47 1.35L5.41 20z\"/>\n",
              "  </svg>\n",
              "      </button>\n",
              "      \n",
              "  <style>\n",
              "    .colab-df-container {\n",
              "      display:flex;\n",
              "      flex-wrap:wrap;\n",
              "      gap: 12px;\n",
              "    }\n",
              "\n",
              "    .colab-df-convert {\n",
              "      background-color: #E8F0FE;\n",
              "      border: none;\n",
              "      border-radius: 50%;\n",
              "      cursor: pointer;\n",
              "      display: none;\n",
              "      fill: #1967D2;\n",
              "      height: 32px;\n",
              "      padding: 0 0 0 0;\n",
              "      width: 32px;\n",
              "    }\n",
              "\n",
              "    .colab-df-convert:hover {\n",
              "      background-color: #E2EBFA;\n",
              "      box-shadow: 0px 1px 2px rgba(60, 64, 67, 0.3), 0px 1px 3px 1px rgba(60, 64, 67, 0.15);\n",
              "      fill: #174EA6;\n",
              "    }\n",
              "\n",
              "    [theme=dark] .colab-df-convert {\n",
              "      background-color: #3B4455;\n",
              "      fill: #D2E3FC;\n",
              "    }\n",
              "\n",
              "    [theme=dark] .colab-df-convert:hover {\n",
              "      background-color: #434B5C;\n",
              "      box-shadow: 0px 1px 3px 1px rgba(0, 0, 0, 0.15);\n",
              "      filter: drop-shadow(0px 1px 2px rgba(0, 0, 0, 0.3));\n",
              "      fill: #FFFFFF;\n",
              "    }\n",
              "  </style>\n",
              "\n",
              "      <script>\n",
              "        const buttonEl =\n",
              "          document.querySelector('#df-8a958425-16f6-4296-91c5-7b2db8fd0f65 button.colab-df-convert');\n",
              "        buttonEl.style.display =\n",
              "          google.colab.kernel.accessAllowed ? 'block' : 'none';\n",
              "\n",
              "        async function convertToInteractive(key) {\n",
              "          const element = document.querySelector('#df-8a958425-16f6-4296-91c5-7b2db8fd0f65');\n",
              "          const dataTable =\n",
              "            await google.colab.kernel.invokeFunction('convertToInteractive',\n",
              "                                                     [key], {});\n",
              "          if (!dataTable) return;\n",
              "\n",
              "          const docLinkHtml = 'Like what you see? Visit the ' +\n",
              "            '<a target=\"_blank\" href=https://colab.research.google.com/notebooks/data_table.ipynb>data table notebook</a>'\n",
              "            + ' to learn more about interactive tables.';\n",
              "          element.innerHTML = '';\n",
              "          dataTable['output_type'] = 'display_data';\n",
              "          await google.colab.output.renderOutput(dataTable, element);\n",
              "          const docLink = document.createElement('div');\n",
              "          docLink.innerHTML = docLinkHtml;\n",
              "          element.appendChild(docLink);\n",
              "        }\n",
              "      </script>\n",
              "    </div>\n",
              "  </div>\n",
              "  "
            ]
          },
          "metadata": {},
          "execution_count": 40
        }
      ]
    },
    {
      "cell_type": "markdown",
      "source": [
        "* Mean Squared Error (MSE): is calculated as the mean or average of the squared differences between predicted and expected target values.\n",
        "$$MSE = \\frac{1}{n}\\sum_{i=1}^{n}(y_{i} - y_{e})^{2}$$"
      ],
      "metadata": {
        "id": "2vdzpsEdbP4K"
      }
    },
    {
      "cell_type": "code",
      "source": [
        "mse_pre = (results\n",
        "               .assign(diff = lambda x: (x.true_values - x.predictions)**2)\n",
        "               .agg({'diff':{'sum','count'}}))\n",
        "mse = mse_pre.loc['sum'] / mse_pre.loc['count']\n",
        "mse"
      ],
      "metadata": {
        "colab": {
          "base_uri": "https://localhost:8080/"
        },
        "id": "_JPkcxPBbO4g",
        "outputId": "4ed448be-4e3f-477d-8796-554162400bb5"
      },
      "execution_count": null,
      "outputs": [
        {
          "output_type": "execute_result",
          "data": {
            "text/plain": [
              "diff    7.582625e+08\n",
              "dtype: float64"
            ]
          },
          "metadata": {},
          "execution_count": 41
        }
      ]
    },
    {
      "cell_type": "code",
      "source": [
        "# check our results with sklearn metrics\n",
        "mod_res = {}\n",
        "mod_res['1st_iter'] = {}\n",
        "from sklearn.metrics import mean_squared_error\n",
        "mod_res['1st_iter']['mse'] = mean_squared_error(results.true_values, results.predictions)\n",
        "mod_res['1st_iter']['mse']"
      ],
      "metadata": {
        "colab": {
          "base_uri": "https://localhost:8080/"
        },
        "id": "1hw8hOvBckG_",
        "outputId": "ebfd7951-e120-4b7a-9bfe-217160eb9cef"
      },
      "execution_count": null,
      "outputs": [
        {
          "output_type": "execute_result",
          "data": {
            "text/plain": [
              "758262548.8458904"
            ]
          },
          "metadata": {},
          "execution_count": 42
        }
      ]
    },
    {
      "cell_type": "markdown",
      "source": [
        "* Root Mean Squared Error (RMSE): \n",
        "$$RMSE = \\sqrt{\\frac{1}{n}\\sum_{i=1}^{n}(y_{i} - y_{e})^{2}}$$"
      ],
      "metadata": {
        "id": "Pq5lFPhRcsaf"
      }
    },
    {
      "cell_type": "code",
      "source": [
        "rmse = (mse_pre.loc['sum'] / mse_pre.loc['count'])**0.5\n",
        "rmse"
      ],
      "metadata": {
        "colab": {
          "base_uri": "https://localhost:8080/"
        },
        "id": "fFwTq7bOcpQu",
        "outputId": "6fb17ef6-18f6-497b-d0f2-4b8bdec09ef3"
      },
      "execution_count": null,
      "outputs": [
        {
          "output_type": "execute_result",
          "data": {
            "text/plain": [
              "diff    27536.567485\n",
              "dtype: float64"
            ]
          },
          "metadata": {},
          "execution_count": 43
        }
      ]
    },
    {
      "cell_type": "markdown",
      "source": [
        "* Mean Absolute Error (MAE)\n",
        "$$MAE = \\frac{1}{n}\\sum_{i=1}^{n} |y_{i} - y_{e}|$$"
      ],
      "metadata": {
        "id": "GpA9c_w-dc1-"
      }
    },
    {
      "cell_type": "code",
      "source": [
        "mae_pre = (results\n",
        "               .assign(diff = lambda x: abs(x.true_values - x.predictions))\n",
        "               .agg({'diff':{'sum','count'}}))\n",
        "mod_res['1st_iter']['mae'] = mae_pre.loc['sum'] / mae_pre.loc['count']\n",
        "mod_res['1st_iter']['mae']"
      ],
      "metadata": {
        "colab": {
          "base_uri": "https://localhost:8080/"
        },
        "id": "qmaUSRROc1C9",
        "outputId": "9c9b4767-0fc4-4eb9-c45a-b0d29b07591f"
      },
      "execution_count": null,
      "outputs": [
        {
          "output_type": "execute_result",
          "data": {
            "text/plain": [
              "diff    17995.996575\n",
              "dtype: float64"
            ]
          },
          "metadata": {},
          "execution_count": 44
        }
      ]
    },
    {
      "cell_type": "code",
      "source": [
        "# check our results with sklearn metrics\n",
        "from sklearn.metrics import mean_absolute_error\n",
        "mod_res['1st_iter']['mae'] = mean_absolute_error(results.true_values, results.predictions)\n",
        "mod_res['1st_iter']['mae']"
      ],
      "metadata": {
        "colab": {
          "base_uri": "https://localhost:8080/"
        },
        "id": "_MmchZ3LdhWY",
        "outputId": "e19020b5-7b7c-4069-ed27-7f81c1bbc1f2"
      },
      "execution_count": null,
      "outputs": [
        {
          "output_type": "execute_result",
          "data": {
            "text/plain": [
              "17995.996575342466"
            ]
          },
          "metadata": {},
          "execution_count": 45
        }
      ]
    },
    {
      "cell_type": "markdown",
      "source": [
        "* Mean Absolute Percentage Error (MAPE)\n",
        "\n",
        "$$MAPE = \\frac{1}{n}\\sum_{i=1}^{n} |\\frac{y_{i} - y_{e}}{y_{i}}|$$"
      ],
      "metadata": {
        "id": "QdTOYBfadpPw"
      }
    },
    {
      "cell_type": "code",
      "source": [
        "# Given that MAPE (mean absolute percentage error) doesn't exist in this version of sklearn, let's write a function:\n",
        "def mean_abs_perc_error(y_true, y_pred):\n",
        "    results = pd.DataFrame({\n",
        "        'predictions':y_pred,\n",
        "        'true_values':y_true\n",
        "    })\n",
        "    mape_pre = (results\n",
        "               .assign(diff = lambda x: abs(x.true_values - x.predictions)/x.true_values)\n",
        "               .agg({'diff':{'sum','count'}}))\n",
        "    mape = mape_pre.loc['sum'] / mape_pre.loc['count']\n",
        "    return mape.values[0]\n",
        "\n",
        "# from sklearn.metrics import mean_absolute_percentage_error\n",
        "mod_res['1st_iter']['mape'] = mean_abs_perc_error(results['true_values'], results['predictions'])\n",
        "mod_res['1st_iter']['mape']\n",
        "mod_res"
      ],
      "metadata": {
        "colab": {
          "base_uri": "https://localhost:8080/"
        },
        "id": "VhJmA9pIdl4X",
        "outputId": "16967eb8-75a5-48c0-ca05-a1f5985959ad"
      },
      "execution_count": null,
      "outputs": [
        {
          "output_type": "execute_result",
          "data": {
            "text/plain": [
              "{'1st_iter': {'mae': 17995.996575342466,\n",
              "  'mape': 0.10318878615421202,\n",
              "  'mse': 758262548.8458904}}"
            ]
          },
          "metadata": {},
          "execution_count": 46
        }
      ]
    },
    {
      "cell_type": "code",
      "source": [
        "def plot_predictions(y_true, y_pred): \n",
        "    print(\n",
        "        f\"\"\"\n",
        "        MSE: {mean_squared_error(y_true, y_pred)}\n",
        "        RMSE: {mean_squared_error(y_true, y_pred)**0.5}\n",
        "        MAE: {mean_absolute_error(y_true, y_pred)}\n",
        "        MAPE: {mean_abs_perc_error(y_true, y_pred)}\n",
        "        \"\"\"\n",
        "    )\n",
        "    \n",
        "    max_preds = min([max(y_pred.tolist()), max(y_true.tolist())])\n",
        "    min_preds = max([min(y_pred.tolist()), min(y_true.tolist())])\n",
        "    \n",
        "    print(max_preds, min_preds)\n",
        "    # plot\n",
        "    plt.figure(figsize=(8,8))\n",
        "    sns.scatterplot(x=y_pred, y=y_true)\n",
        "    sns.lineplot(x=[min_preds,max_preds], y=[min_preds, max_preds], color='red')\n",
        "    plt.ylabel('Reference')\n",
        "    plt.xlabel('Predictions')\n",
        "    plt.show()\n",
        "\n",
        "    return {\n",
        "        'mse': mean_squared_error(y_true, y_pred), \n",
        "        'rmse': mean_squared_error(y_true, y_pred)**0.5,\n",
        "        'mae': mean_absolute_error(y_true, y_pred),\n",
        "        'mape': mean_abs_perc_error(y_true, y_pred)\n",
        "    }\n",
        "\n",
        "mod_res['1st_iter'] = plot_predictions(y_test, results['predictions'])"
      ],
      "metadata": {
        "colab": {
          "base_uri": "https://localhost:8080/",
          "height": 625
        },
        "id": "XjlsN-fWdxJj",
        "outputId": "e172bda1-8170-49d2-c998-fc51939b269c"
      },
      "execution_count": null,
      "outputs": [
        {
          "output_type": "stream",
          "name": "stdout",
          "text": [
            "\n",
            "        MSE: 758262548.8458904\n",
            "        RMSE: 27536.567484817173\n",
            "        MAE: 17995.996575342466\n",
            "        MAPE: 0.10318878615421202\n",
            "        \n",
            "466160.0 37900\n"
          ]
        },
        {
          "output_type": "display_data",
          "data": {
            "text/plain": [
              "<Figure size 576x576 with 1 Axes>"
            ],
            "image/png": "[encoded data removed]"
          },
          "metadata": {
            "needs_background": "light"
          }
        }
      ]
    },
    {
      "cell_type": "code",
      "source": [
        "train_score = lm.score(X_train,y_train)\n",
        "test_score = lm.score(X_test,y_test)\n",
        "\n",
        "print(f'Train Accuracy : {train_score:.3f}')\n",
        "print(f'Test Accuracy : {test_score:.3f}')"
      ],
      "metadata": {
        "colab": {
          "base_uri": "https://localhost:8080/"
        },
        "id": "pawa0SCxbJ9o",
        "outputId": "37945864-7945-4987-df9f-6cb04493cbc0"
      },
      "execution_count": null,
      "outputs": [
        {
          "output_type": "stream",
          "name": "stdout",
          "text": [
            "Train Accuracy : 0.892\n",
            "Test Accuracy : 0.877\n"
          ]
        }
      ]
    },
    {
      "cell_type": "markdown",
      "source": [
        "# Feature Selection based on Collinearity"
      ],
      "metadata": {
        "id": "ILBdCsAFyAlz"
      }
    },
    {
      "cell_type": "code",
      "source": [
        "import seaborn as sn\n",
        "import matplotlib.pyplot as plt\n",
        "\n",
        "# X_train.drop(columns=[\"feature_27\", \"feature_28\"], inplace=True)\n",
        "#fig, ax = plt.subplots(figsize=(18,18))\n",
        "corrMatrix = X_prep_df.corr().abs()\n",
        "#sn.heatmap(corrMatrix, annot=True);\n",
        "corrMatrix"
      ],
      "metadata": {
        "colab": {
          "base_uri": "https://localhost:8080/",
          "height": 487
        },
        "id": "FS6lGMaJgX6m",
        "outputId": "104e4d9f-735f-4740-b91b-e8156292bc26"
      },
      "execution_count": null,
      "outputs": [
        {
          "output_type": "execute_result",
          "data": {
            "text/plain": [
              "          0         1         2         3         4         5         6    \\\n",
              "0    1.000000  0.379431  0.139781  0.032628  0.059316  0.027850  0.040581   \n",
              "1    0.379431  1.000000  0.423084  0.213731  0.031605  0.091443  0.056400   \n",
              "2    0.139781  0.423084  1.000000  0.105806  0.005636  0.014228  0.013788   \n",
              "3    0.032628  0.213731  0.105806  1.000000  0.091932  0.572323  0.550684   \n",
              "4    0.059316  0.031605  0.005636  0.091932  1.000000  0.375983  0.073741   \n",
              "..        ...       ...       ...       ...       ...       ...       ...   \n",
              "270  0.016241  0.036293  0.013208  0.041677  0.038888  0.045601  0.040294   \n",
              "271  0.030002  0.016647  0.008966  0.044950  0.033444  0.010104  0.020727   \n",
              "272  0.000983  0.015182  0.010781  0.025515  0.023873  0.035785  0.048056   \n",
              "273  0.024359  0.066121  0.005711  0.143282  0.161642  0.158427  0.120577   \n",
              "274  0.051068  0.100739  0.022635  0.323295  0.151659  0.343895  0.322837   \n",
              "\n",
              "          7         8         9    ...       265       266       267  \\\n",
              "0    0.022233  0.069836  0.065649  ...  0.014005  0.045156  0.014555   \n",
              "1    0.178839  0.233167  0.072293  ...  0.050219  0.102463  0.023457   \n",
              "2    0.103498  0.214103  0.111170  ...  0.015040  0.020039  0.005722   \n",
              "3    0.413702  0.239666  0.059119  ...  0.021172  0.327412  0.057962   \n",
              "4    0.129254  0.046231  0.040229  ...  0.019779  0.156175  0.050663   \n",
              "..        ...       ...       ...  ...       ...       ...       ...   \n",
              "270  0.012080  0.014874  0.015130  ...  0.003073  0.015827  0.002378   \n",
              "271  0.010208  0.021369  0.026277  ...  0.005337  0.027489  0.004131   \n",
              "272  0.010257  0.000765  0.007929  ...  0.006909  0.035587  0.005348   \n",
              "273  0.089045  0.019560  0.041207  ...  0.027414  0.645698  0.097031   \n",
              "274  0.173163  0.044912  0.085761  ...  0.017938  0.986819  0.013885   \n",
              "\n",
              "          268       269       270       271       272       273       274  \n",
              "0    0.026359  0.005003  0.016241  0.030002  0.000983  0.024359  0.051068  \n",
              "1    0.070002  0.016490  0.036293  0.016647  0.015182  0.066121  0.100739  \n",
              "2    0.002292  0.029126  0.013208  0.008966  0.010781  0.005711  0.022635  \n",
              "3    0.225013  0.103535  0.041677  0.044950  0.025515  0.143282  0.323295  \n",
              "4    0.163684  0.046367  0.038888  0.033444  0.023873  0.161642  0.151659  \n",
              "..        ...       ...       ...       ...       ...       ...       ...  \n",
              "270  0.020457  0.014289  1.000000  0.004772  0.006177  0.112080  0.016038  \n",
              "271  0.035530  0.024817  0.004772  1.000000  0.010729  0.194663  0.027856  \n",
              "272  0.028599  0.032128  0.006177  0.010729  1.000000  0.252006  0.036062  \n",
              "273  0.634322  0.582947  0.112080  0.194663  0.252006  1.000000  0.654323  \n",
              "274  0.769559  0.083419  0.016038  0.027856  0.036062  0.654323  1.000000  \n",
              "\n",
              "[275 rows x 275 columns]"
            ],
            "text/html": [
              "\n",
              "  <div id=\"df-1af041a3-6462-41b6-b3cb-2ae3192d2b47\">\n",
              "    <div class=\"colab-df-container\">\n",
              "      <div>\n",
              "<style scoped>\n",
              "    .dataframe tbody tr th:only-of-type {\n",
              "        vertical-align: middle;\n",
              "    }\n",
              "\n",
              "    .dataframe tbody tr th {\n",
              "        vertical-align: top;\n",
              "    }\n",
              "\n",
              "    .dataframe thead th {\n",
              "        text-align: right;\n",
              "    }\n",
              "</style>\n",
              "<table border=\"1\" class=\"dataframe\">\n",
              "  <thead>\n",
              "    <tr style=\"text-align: right;\">\n",
              "      <th></th>\n",
              "      <th>0</th>\n",
              "      <th>1</th>\n",
              "      <th>2</th>\n",
              "      <th>3</th>\n",
              "      <th>4</th>\n",
              "      <th>5</th>\n",
              "      <th>6</th>\n",
              "      <th>7</th>\n",
              "      <th>8</th>\n",
              "      <th>9</th>\n",
              "      <th>...</th>\n",
              "      <th>265</th>\n",
              "      <th>266</th>\n",
              "      <th>267</th>\n",
              "      <th>268</th>\n",
              "      <th>269</th>\n",
              "      <th>270</th>\n",
              "      <th>271</th>\n",
              "      <th>272</th>\n",
              "      <th>273</th>\n",
              "      <th>274</th>\n",
              "    </tr>\n",
              "  </thead>\n",
              "  <tbody>\n",
              "    <tr>\n",
              "      <th>0</th>\n",
              "      <td>1.000000</td>\n",
              "      <td>0.379431</td>\n",
              "      <td>0.139781</td>\n",
              "      <td>0.032628</td>\n",
              "      <td>0.059316</td>\n",
              "      <td>0.027850</td>\n",
              "      <td>0.040581</td>\n",
              "      <td>0.022233</td>\n",
              "      <td>0.069836</td>\n",
              "      <td>0.065649</td>\n",
              "      <td>...</td>\n",
              "      <td>0.014005</td>\n",
              "      <td>0.045156</td>\n",
              "      <td>0.014555</td>\n",
              "      <td>0.026359</td>\n",
              "      <td>0.005003</td>\n",
              "      <td>0.016241</td>\n",
              "      <td>0.030002</td>\n",
              "      <td>0.000983</td>\n",
              "      <td>0.024359</td>\n",
              "      <td>0.051068</td>\n",
              "    </tr>\n",
              "    <tr>\n",
              "      <th>1</th>\n",
              "      <td>0.379431</td>\n",
              "      <td>1.000000</td>\n",
              "      <td>0.423084</td>\n",
              "      <td>0.213731</td>\n",
              "      <td>0.031605</td>\n",
              "      <td>0.091443</td>\n",
              "      <td>0.056400</td>\n",
              "      <td>0.178839</td>\n",
              "      <td>0.233167</td>\n",
              "      <td>0.072293</td>\n",
              "      <td>...</td>\n",
              "      <td>0.050219</td>\n",
              "      <td>0.102463</td>\n",
              "      <td>0.023457</td>\n",
              "      <td>0.070002</td>\n",
              "      <td>0.016490</td>\n",
              "      <td>0.036293</td>\n",
              "      <td>0.016647</td>\n",
              "      <td>0.015182</td>\n",
              "      <td>0.066121</td>\n",
              "      <td>0.100739</td>\n",
              "    </tr>\n",
              "    <tr>\n",
              "      <th>2</th>\n",
              "      <td>0.139781</td>\n",
              "      <td>0.423084</td>\n",
              "      <td>1.000000</td>\n",
              "      <td>0.105806</td>\n",
              "      <td>0.005636</td>\n",
              "      <td>0.014228</td>\n",
              "      <td>0.013788</td>\n",
              "      <td>0.103498</td>\n",
              "      <td>0.214103</td>\n",
              "      <td>0.111170</td>\n",
              "      <td>...</td>\n",
              "      <td>0.015040</td>\n",
              "      <td>0.020039</td>\n",
              "      <td>0.005722</td>\n",
              "      <td>0.002292</td>\n",
              "      <td>0.029126</td>\n",
              "      <td>0.013208</td>\n",
              "      <td>0.008966</td>\n",
              "      <td>0.010781</td>\n",
              "      <td>0.005711</td>\n",
              "      <td>0.022635</td>\n",
              "    </tr>\n",
              "    <tr>\n",
              "      <th>3</th>\n",
              "      <td>0.032628</td>\n",
              "      <td>0.213731</td>\n",
              "      <td>0.105806</td>\n",
              "      <td>1.000000</td>\n",
              "      <td>0.091932</td>\n",
              "      <td>0.572323</td>\n",
              "      <td>0.550684</td>\n",
              "      <td>0.413702</td>\n",
              "      <td>0.239666</td>\n",
              "      <td>0.059119</td>\n",
              "      <td>...</td>\n",
              "      <td>0.021172</td>\n",
              "      <td>0.327412</td>\n",
              "      <td>0.057962</td>\n",
              "      <td>0.225013</td>\n",
              "      <td>0.103535</td>\n",
              "      <td>0.041677</td>\n",
              "      <td>0.044950</td>\n",
              "      <td>0.025515</td>\n",
              "      <td>0.143282</td>\n",
              "      <td>0.323295</td>\n",
              "    </tr>\n",
              "    <tr>\n",
              "      <th>4</th>\n",
              "      <td>0.059316</td>\n",
              "      <td>0.031605</td>\n",
              "      <td>0.005636</td>\n",
              "      <td>0.091932</td>\n",
              "      <td>1.000000</td>\n",
              "      <td>0.375983</td>\n",
              "      <td>0.073741</td>\n",
              "      <td>0.129254</td>\n",
              "      <td>0.046231</td>\n",
              "      <td>0.040229</td>\n",
              "      <td>...</td>\n",
              "      <td>0.019779</td>\n",
              "      <td>0.156175</td>\n",
              "      <td>0.050663</td>\n",
              "      <td>0.163684</td>\n",
              "      <td>0.046367</td>\n",
              "      <td>0.038888</td>\n",
              "      <td>0.033444</td>\n",
              "      <td>0.023873</td>\n",
              "      <td>0.161642</td>\n",
              "      <td>0.151659</td>\n",
              "    </tr>\n",
              "    <tr>\n",
              "      <th>...</th>\n",
              "      <td>...</td>\n",
              "      <td>...</td>\n",
              "      <td>...</td>\n",
              "      <td>...</td>\n",
              "      <td>...</td>\n",
              "      <td>...</td>\n",
              "      <td>...</td>\n",
              "      <td>...</td>\n",
              "      <td>...</td>\n",
              "      <td>...</td>\n",
              "      <td>...</td>\n",
              "      <td>...</td>\n",
              "      <td>...</td>\n",
              "      <td>...</td>\n",
              "      <td>...</td>\n",
              "      <td>...</td>\n",
              "      <td>...</td>\n",
              "      <td>...</td>\n",
              "      <td>...</td>\n",
              "      <td>...</td>\n",
              "      <td>...</td>\n",
              "    </tr>\n",
              "    <tr>\n",
              "      <th>270</th>\n",
              "      <td>0.016241</td>\n",
              "      <td>0.036293</td>\n",
              "      <td>0.013208</td>\n",
              "      <td>0.041677</td>\n",
              "      <td>0.038888</td>\n",
              "      <td>0.045601</td>\n",
              "      <td>0.040294</td>\n",
              "      <td>0.012080</td>\n",
              "      <td>0.014874</td>\n",
              "      <td>0.015130</td>\n",
              "      <td>...</td>\n",
              "      <td>0.003073</td>\n",
              "      <td>0.015827</td>\n",
              "      <td>0.002378</td>\n",
              "      <td>0.020457</td>\n",
              "      <td>0.014289</td>\n",
              "      <td>1.000000</td>\n",
              "      <td>0.004772</td>\n",
              "      <td>0.006177</td>\n",
              "      <td>0.112080</td>\n",
              "      <td>0.016038</td>\n",
              "    </tr>\n",
              "    <tr>\n",
              "      <th>271</th>\n",
              "      <td>0.030002</td>\n",
              "      <td>0.016647</td>\n",
              "      <td>0.008966</td>\n",
              "      <td>0.044950</td>\n",
              "      <td>0.033444</td>\n",
              "      <td>0.010104</td>\n",
              "      <td>0.020727</td>\n",
              "      <td>0.010208</td>\n",
              "      <td>0.021369</td>\n",
              "      <td>0.026277</td>\n",
              "      <td>...</td>\n",
              "      <td>0.005337</td>\n",
              "      <td>0.027489</td>\n",
              "      <td>0.004131</td>\n",
              "      <td>0.035530</td>\n",
              "      <td>0.024817</td>\n",
              "      <td>0.004772</td>\n",
              "      <td>1.000000</td>\n",
              "      <td>0.010729</td>\n",
              "      <td>0.194663</td>\n",
              "      <td>0.027856</td>\n",
              "    </tr>\n",
              "    <tr>\n",
              "      <th>272</th>\n",
              "      <td>0.000983</td>\n",
              "      <td>0.015182</td>\n",
              "      <td>0.010781</td>\n",
              "      <td>0.025515</td>\n",
              "      <td>0.023873</td>\n",
              "      <td>0.035785</td>\n",
              "      <td>0.048056</td>\n",
              "      <td>0.010257</td>\n",
              "      <td>0.000765</td>\n",
              "      <td>0.007929</td>\n",
              "      <td>...</td>\n",
              "      <td>0.006909</td>\n",
              "      <td>0.035587</td>\n",
              "      <td>0.005348</td>\n",
              "      <td>0.028599</td>\n",
              "      <td>0.032128</td>\n",
              "      <td>0.006177</td>\n",
              "      <td>0.010729</td>\n",
              "      <td>1.000000</td>\n",
              "      <td>0.252006</td>\n",
              "      <td>0.036062</td>\n",
              "    </tr>\n",
              "    <tr>\n",
              "      <th>273</th>\n",
              "      <td>0.024359</td>\n",
              "      <td>0.066121</td>\n",
              "      <td>0.005711</td>\n",
              "      <td>0.143282</td>\n",
              "      <td>0.161642</td>\n",
              "      <td>0.158427</td>\n",
              "      <td>0.120577</td>\n",
              "      <td>0.089045</td>\n",
              "      <td>0.019560</td>\n",
              "      <td>0.041207</td>\n",
              "      <td>...</td>\n",
              "      <td>0.027414</td>\n",
              "      <td>0.645698</td>\n",
              "      <td>0.097031</td>\n",
              "      <td>0.634322</td>\n",
              "      <td>0.582947</td>\n",
              "      <td>0.112080</td>\n",
              "      <td>0.194663</td>\n",
              "      <td>0.252006</td>\n",
              "      <td>1.000000</td>\n",
              "      <td>0.654323</td>\n",
              "    </tr>\n",
              "    <tr>\n",
              "      <th>274</th>\n",
              "      <td>0.051068</td>\n",
              "      <td>0.100739</td>\n",
              "      <td>0.022635</td>\n",
              "      <td>0.323295</td>\n",
              "      <td>0.151659</td>\n",
              "      <td>0.343895</td>\n",
              "      <td>0.322837</td>\n",
              "      <td>0.173163</td>\n",
              "      <td>0.044912</td>\n",
              "      <td>0.085761</td>\n",
              "      <td>...</td>\n",
              "      <td>0.017938</td>\n",
              "      <td>0.986819</td>\n",
              "      <td>0.013885</td>\n",
              "      <td>0.769559</td>\n",
              "      <td>0.083419</td>\n",
              "      <td>0.016038</td>\n",
              "      <td>0.027856</td>\n",
              "      <td>0.036062</td>\n",
              "      <td>0.654323</td>\n",
              "      <td>1.000000</td>\n",
              "    </tr>\n",
              "  </tbody>\n",
              "</table>\n",
              "<p>275 rows × 275 columns</p>\n",
              "</div>\n",
              "      <button class=\"colab-df-convert\" onclick=\"convertToInteractive('df-1af041a3-6462-41b6-b3cb-2ae3192d2b47')\"\n",
              "              title=\"Convert this dataframe to an interactive table.\"\n",
              "              style=\"display:none;\">\n",
              "        \n",
              "  <svg xmlns=\"http://www.w3.org/2000/svg\" height=\"24px\"viewBox=\"0 0 24 24\"\n",
              "       width=\"24px\">\n",
              "    <path d=\"M0 0h24v24H0V0z\" fill=\"none\"/>\n",
              "    <path d=\"M18.56 5.44l.94 2.06.94-2.06 2.06-.94-2.06-.94-.94-2.06-.94 2.06-2.06.94zm-11 1L8.5 8.5l.94-2.06 2.06-.94-2.06-.94L8.5 2.5l-.94 2.06-2.06.94zm10 10l.94 2.06.94-2.06 2.06-.94-2.06-.94-.94-2.06-.94 2.06-2.06.94z\"/><path d=\"M17.41 7.96l-1.37-1.37c-.4-.4-.92-.59-1.43-.59-.52 0-1.04.2-1.43.59L10.3 9.45l-7.72 7.72c-.78.78-.78 2.05 0 2.83L4 21.41c.39.39.9.59 1.41.59.51 0 1.02-.2 1.41-.59l7.78-7.78 2.81-2.81c.8-.78.8-2.07 0-2.86zM5.41 20L4 18.59l7.72-7.72 1.47 1.35L5.41 20z\"/>\n",
              "  </svg>\n",
              "      </button>\n",
              "      \n",
              "  <style>\n",
              "    .colab-df-container {\n",
              "      display:flex;\n",
              "      flex-wrap:wrap;\n",
              "      gap: 12px;\n",
              "    }\n",
              "\n",
              "    .colab-df-convert {\n",
              "      background-color: #E8F0FE;\n",
              "      border: none;\n",
              "      border-radius: 50%;\n",
              "      cursor: pointer;\n",
              "      display: none;\n",
              "      fill: #1967D2;\n",
              "      height: 32px;\n",
              "      padding: 0 0 0 0;\n",
              "      width: 32px;\n",
              "    }\n",
              "\n",
              "    .colab-df-convert:hover {\n",
              "      background-color: #E2EBFA;\n",
              "      box-shadow: 0px 1px 2px rgba(60, 64, 67, 0.3), 0px 1px 3px 1px rgba(60, 64, 67, 0.15);\n",
              "      fill: #174EA6;\n",
              "    }\n",
              "\n",
              "    [theme=dark] .colab-df-convert {\n",
              "      background-color: #3B4455;\n",
              "      fill: #D2E3FC;\n",
              "    }\n",
              "\n",
              "    [theme=dark] .colab-df-convert:hover {\n",
              "      background-color: #434B5C;\n",
              "      box-shadow: 0px 1px 3px 1px rgba(0, 0, 0, 0.15);\n",
              "      filter: drop-shadow(0px 1px 2px rgba(0, 0, 0, 0.3));\n",
              "      fill: #FFFFFF;\n",
              "    }\n",
              "  </style>\n",
              "\n",
              "      <script>\n",
              "        const buttonEl =\n",
              "          document.querySelector('#df-1af041a3-6462-41b6-b3cb-2ae3192d2b47 button.colab-df-convert');\n",
              "        buttonEl.style.display =\n",
              "          google.colab.kernel.accessAllowed ? 'block' : 'none';\n",
              "\n",
              "        async function convertToInteractive(key) {\n",
              "          const element = document.querySelector('#df-1af041a3-6462-41b6-b3cb-2ae3192d2b47');\n",
              "          const dataTable =\n",
              "            await google.colab.kernel.invokeFunction('convertToInteractive',\n",
              "                                                     [key], {});\n",
              "          if (!dataTable) return;\n",
              "\n",
              "          const docLinkHtml = 'Like what you see? Visit the ' +\n",
              "            '<a target=\"_blank\" href=https://colab.research.google.com/notebooks/data_table.ipynb>data table notebook</a>'\n",
              "            + ' to learn more about interactive tables.';\n",
              "          element.innerHTML = '';\n",
              "          dataTable['output_type'] = 'display_data';\n",
              "          await google.colab.output.renderOutput(dataTable, element);\n",
              "          const docLink = document.createElement('div');\n",
              "          docLink.innerHTML = docLinkHtml;\n",
              "          element.appendChild(docLink);\n",
              "        }\n",
              "      </script>\n",
              "    </div>\n",
              "  </div>\n",
              "  "
            ]
          },
          "metadata": {},
          "execution_count": 49
        }
      ]
    },
    {
      "cell_type": "code",
      "source": [
        "# Select upper triangle of correlation matrix\n",
        "upper = corrMatrix.where(np.triu(np.ones(corrMatrix.shape), k=1).astype(bool))\n",
        "\n",
        "# Find index of feature columns with correlation greater than 0.70\n",
        "to_drop = [column for column in upper.columns if any(upper[column] > 0.70)]\n",
        "to_drop"
      ],
      "metadata": {
        "colab": {
          "base_uri": "https://localhost:8080/"
        },
        "id": "U4iNBue9hCxA",
        "outputId": "df1bd953-301d-4e0a-a65b-0982b3727859"
      },
      "execution_count": null,
      "outputs": [
        {
          "output_type": "execute_result",
          "data": {
            "text/plain": [
              "[12,\n",
              " 22,\n",
              " 24,\n",
              " 26,\n",
              " 40,\n",
              " 42,\n",
              " 46,\n",
              " 52,\n",
              " 57,\n",
              " 59,\n",
              " 82,\n",
              " 103,\n",
              " 110,\n",
              " 113,\n",
              " 119,\n",
              " 121,\n",
              " 127,\n",
              " 145,\n",
              " 149,\n",
              " 150,\n",
              " 151,\n",
              " 153,\n",
              " 155,\n",
              " 157,\n",
              " 158,\n",
              " 159,\n",
              " 163,\n",
              " 168,\n",
              " 173,\n",
              " 176,\n",
              " 183,\n",
              " 187,\n",
              " 203,\n",
              " 206,\n",
              " 216,\n",
              " 220,\n",
              " 221,\n",
              " 225,\n",
              " 237,\n",
              " 243,\n",
              " 251,\n",
              " 252,\n",
              " 256,\n",
              " 259,\n",
              " 268,\n",
              " 274]"
            ]
          },
          "metadata": {},
          "execution_count": 50
        }
      ]
    },
    {
      "cell_type": "code",
      "source": [
        "# drop cols \n",
        "X_colinear = X_prep_scaled.drop(columns=to_drop)\n",
        "\n",
        "X_colinear\n"
      ],
      "metadata": {
        "colab": {
          "base_uri": "https://localhost:8080/",
          "height": 226
        },
        "id": "Tu7y1MSGiTTH",
        "outputId": "c6eb8df2-fc68-4b4e-8d42-3d7f09f489a7"
      },
      "execution_count": null,
      "outputs": [
        {
          "output_type": "error",
          "ename": "NameError",
          "evalue": "ignored",
          "traceback": [
            "\u001b[0;31m---------------------------------------------------------------------------\u001b[0m",
            "\u001b[0;31mNameError\u001b[0m                                 Traceback (most recent call last)",
            "\u001b[0;32m<ipython-input-51-09ee8f81364e>\u001b[0m in \u001b[0;36m<module>\u001b[0;34m()\u001b[0m\n\u001b[1;32m      1\u001b[0m \u001b[0;31m# drop cols\u001b[0m\u001b[0;34m\u001b[0m\u001b[0;34m\u001b[0m\u001b[0;34m\u001b[0m\u001b[0m\n\u001b[0;32m----> 2\u001b[0;31m \u001b[0mX_colinear\u001b[0m \u001b[0;34m=\u001b[0m \u001b[0mX_prep_scaled\u001b[0m\u001b[0;34m.\u001b[0m\u001b[0mdrop\u001b[0m\u001b[0;34m(\u001b[0m\u001b[0mcolumns\u001b[0m\u001b[0;34m=\u001b[0m\u001b[0mto_drop\u001b[0m\u001b[0;34m)\u001b[0m\u001b[0;34m\u001b[0m\u001b[0;34m\u001b[0m\u001b[0m\n\u001b[0m\u001b[1;32m      3\u001b[0m \u001b[0;34m\u001b[0m\u001b[0m\n\u001b[1;32m      4\u001b[0m \u001b[0mX_colinear\u001b[0m\u001b[0;34m\u001b[0m\u001b[0;34m\u001b[0m\u001b[0m\n",
            "\u001b[0;31mNameError\u001b[0m: name 'X_prep_scaled' is not defined"
          ]
        }
      ]
    },
    {
      "cell_type": "code",
      "source": [
        "X_train_c, X_test_c, y_train_c, y_test_c = train_test_split(X_colinear, y, test_size=0.2, random_state=123)\n"
      ],
      "metadata": {
        "id": "XSJYzaqcjBgS"
      },
      "execution_count": null,
      "outputs": []
    },
    {
      "cell_type": "code",
      "source": [
        "#  lr on collinear feature selection\n",
        "from sklearn.linear_model import LinearRegression\n",
        "\n",
        "lm = LinearRegression()\n",
        "lm.fit(np.array(X_train_c), y_train_c)"
      ],
      "metadata": {
        "id": "Ww9FF7WBjBaC"
      },
      "execution_count": null,
      "outputs": []
    },
    {
      "cell_type": "code",
      "source": [
        "# result on test set with collinear feature selection\n",
        "lm.predict(np.array(X_test_c))"
      ],
      "metadata": {
        "id": "r8TVyv6okbZG"
      },
      "execution_count": null,
      "outputs": []
    },
    {
      "cell_type": "code",
      "source": [
        "results_c = pd.DataFrame({\n",
        "    'predictions':lm.predict(np.array(X_test_c)),\n",
        "    'true_values':y_test_c\n",
        "})\n",
        "results_c"
      ],
      "metadata": {
        "id": "vED9oFwgkbID"
      },
      "execution_count": null,
      "outputs": []
    },
    {
      "cell_type": "code",
      "source": [
        "mse_pre_c = (results_c\n",
        "               .assign(diff = lambda x: (x.true_values - x.predictions)**2)\n",
        "               .agg({'diff':{'sum','count'}}))\n",
        "mse_c = mse_pre_c.loc['sum'] / mse_pre_c.loc['count']\n",
        "mse_c\n",
        "rmse_c= (mse_pre.loc['sum'] / mse_pre_c.loc['count'])**0.5\n",
        "rmse_c"
      ],
      "metadata": {
        "id": "JhvsQtF_ka2V"
      },
      "execution_count": null,
      "outputs": []
    },
    {
      "cell_type": "code",
      "source": [
        "\n",
        "\n",
        "mod_res['1st_iter'] = plot_predictions(y_test_c, results_c['predictions'])"
      ],
      "metadata": {
        "id": "_r1YzpmBoJxk"
      },
      "execution_count": null,
      "outputs": []
    },
    {
      "cell_type": "markdown",
      "source": [
        "# Using Scikit learn SK best"
      ],
      "metadata": {
        "id": "ZsiR852noxVN"
      }
    },
    {
      "cell_type": "code",
      "source": [
        "X_train, X_test, y_train, y_test = train_test_split(X, y, test_size=0.2, random_state=50)"
      ],
      "metadata": {
        "id": "oIleUXrUAXQW"
      },
      "execution_count": null,
      "outputs": []
    },
    {
      "cell_type": "code",
      "source": [
        "X_train"
      ],
      "metadata": {
        "id": "mHRMG6XDCjHy"
      },
      "execution_count": null,
      "outputs": []
    },
    {
      "cell_type": "code",
      "source": [
        "y_train"
      ],
      "metadata": {
        "id": "JbICJSrGCoC_"
      },
      "execution_count": null,
      "outputs": []
    },
    {
      "cell_type": "code",
      "source": [
        "from sklearn.feature_selection import SelectKBest, f_regression"
      ],
      "metadata": {
        "id": "SBokIzLyBRNP"
      },
      "execution_count": null,
      "outputs": []
    },
    {
      "cell_type": "code",
      "source": [
        "preprocessor_best = make_pipeline(preprocessor, SelectKBest(score_func=f_regression, k=174))"
      ],
      "metadata": {
        "id": "CtuHEAfSCAPb"
      },
      "execution_count": null,
      "outputs": []
    },
    {
      "cell_type": "code",
      "source": [
        "#preprocessor_best"
      ],
      "metadata": {
        "id": "IYa3M8oTHXOo"
      },
      "execution_count": null,
      "outputs": []
    },
    {
      "cell_type": "code",
      "source": [
        "# making pipeline\n",
        "\n",
        "full_pipeline = make_pipeline(preprocessor_best, LinearRegression())"
      ],
      "metadata": {
        "id": "CDKxOsj3AcbE"
      },
      "execution_count": null,
      "outputs": []
    },
    {
      "cell_type": "code",
      "source": [
        "\n",
        "#full_pipeline"
      ],
      "metadata": {
        "id": "cZpwVV6MB5eO"
      },
      "execution_count": null,
      "outputs": []
    },
    {
      "cell_type": "code",
      "source": [
        "full_pipeline.fit(X_train, y_train)"
      ],
      "metadata": {
        "id": "g2ebO9KXBaeO"
      },
      "execution_count": null,
      "outputs": []
    },
    {
      "cell_type": "markdown",
      "source": [
        "# Check Accuracy"
      ],
      "metadata": {
        "id": "BigXTegHNBfV"
      }
    },
    {
      "cell_type": "code",
      "source": [
        "y_train_pred = full_pipeline.predict(X_train)\n",
        "y_test_pred = full_pipeline.predict(X_test)"
      ],
      "metadata": {
        "id": "r816WCRINBF2"
      },
      "execution_count": null,
      "outputs": []
    },
    {
      "cell_type": "code",
      "source": [
        "y_test_pred "
      ],
      "metadata": {
        "id": "XsFMre4WNsH0"
      },
      "execution_count": null,
      "outputs": []
    },
    {
      "cell_type": "code",
      "source": [
        "fig, ax = plt.subplots()\n",
        "ax.scatter(y_test_pred, y_test, edgecolors=(0, 0, 1))\n",
        "ax.plot([y_test.min(), y_test.max()], [y_test.min(), y_test.max()], 'r--', lw=3)\n",
        "ax.set_xlabel('Predicted')\n",
        "ax.set_ylabel('Actual')\n",
        "plt.show()"
      ],
      "metadata": {
        "id": "-0g6Rg84IP-K"
      },
      "execution_count": null,
      "outputs": []
    },
    {
      "cell_type": "code",
      "source": [
        "# model evaluation for testing set\n",
        "from sklearn import metrics\n",
        "from math import sqrt\n",
        "mae = metrics.mean_absolute_error(y_test, y_test_pred)\n",
        "mse = metrics.mean_squared_error(y_test, y_test_pred)\n",
        "\n",
        "\n",
        "rms = sqrt(mean_squared_error(y_test, y_test_pred))\n",
        "r2 = metrics.r2_score(y_test, y_test_pred)\n",
        "\n",
        "print(\"The model performance for testing set\")\n",
        "print(\"--------------------------------------\")\n",
        "print('MAE is {}'.format(mae))\n",
        "print('MSE is {}'.format(mse))\n",
        "print('RMSE is {}'.format(rms))  # The lower the RMSE, the better a given model is able to “fit” a dataset.\n",
        "print('R2 score is {}'.format(r2))"
      ],
      "metadata": {
        "id": "km6SafEwSvlu"
      },
      "execution_count": null,
      "outputs": []
    },
    {
      "cell_type": "code",
      "source": [
        "train_score = full_pipeline.score(X_train,y_train)\n",
        "test_score = full_pipeline.score(X_test,y_test)\n",
        "\n",
        "print(f'Train Accuracy : {train_score:.3f}')\n",
        "print(f'Test Accuracy : {test_score:.3f}')"
      ],
      "metadata": {
        "id": "W6oku9ld9JDg"
      },
      "execution_count": null,
      "outputs": []
    },
    {
      "cell_type": "markdown",
      "source": [
        "# Submission"
      ],
      "metadata": {
        "id": "Jp-fMm6KJtmb"
      }
    },
    {
      "cell_type": "code",
      "source": [
        "# loading test csv\n",
        "test_data = pd.read_csv(\"/content/drive/MyDrive/coding/Kaggle/test.csv\")"
      ],
      "metadata": {
        "id": "4vszwPgt-6Vb"
      },
      "execution_count": null,
      "outputs": []
    },
    {
      "cell_type": "code",
      "source": [
        "test = full_pipeline.predict(test_data)\n",
        "test "
      ],
      "metadata": {
        "id": "6cAgLXFtKBze"
      },
      "execution_count": null,
      "outputs": []
    },
    {
      "cell_type": "code",
      "source": [
        "test_data[\"SalePrice\"] = test"
      ],
      "metadata": {
        "id": "ntPGUWCXKOcU"
      },
      "execution_count": null,
      "outputs": []
    },
    {
      "cell_type": "code",
      "source": [
        "test_data[\"SalePrice\"]"
      ],
      "metadata": {
        "id": "DsIFEx8FK2BJ"
      },
      "execution_count": null,
      "outputs": []
    },
    {
      "cell_type": "code",
      "source": [
        "Submission = test_data[[\"Id\",\"SalePrice\"]]"
      ],
      "metadata": {
        "id": "dqMmAlrvKo3H"
      },
      "execution_count": null,
      "outputs": []
    },
    {
      "cell_type": "code",
      "source": [
        "Submission.to_csv(\"results.csv\", index = False)"
      ],
      "metadata": {
        "id": "KHQu3k-QK0mS"
      },
      "execution_count": null,
      "outputs": []
    },
    {
      "cell_type": "code",
      "source": [
        "from google.colab import files\n",
        "files.download('results.csv')"
      ],
      "metadata": {
        "id": "svUUF1ibK95H"
      },
      "execution_count": null,
      "outputs": []
    },
    {
      "cell_type": "markdown",
      "source": [
        "# Hypertuning with gridSearch CV\n"
      ],
      "metadata": {
        "id": "BCVWCWyGo3sf"
      }
    },
    {
      "cell_type": "code",
      "source": [
        "from sklearn.linear_model import Lasso, Ridge, SGDRegressor\n",
        "from sklearn.model_selection import GridSearchCV\n",
        "from sklearn.pipeline import Pipeline, FeatureUnion\n",
        "\n",
        "\n",
        "pipe = Pipeline([\n",
        "    ('scale', StandardScaler()),\n",
        "    ('regr', Lasso())\n",
        "])\n",
        "\n",
        "param_grid = [\n",
        "    {\n",
        "        'regr': [Lasso(), Ridge()],\n",
        "        'regr__alpha': np.logspace(-4, 1, 6),\n",
        "    },\n",
        "    {\n",
        "        'regr': [SGDRegressor()],\n",
        "        'regr__alpha': np.logspace(-5, 0, 6),\n",
        "        'regr__max_iter': [500, 1000],\n",
        "    },\n",
        "]\n",
        "\n",
        "grid = GridSearchCV(full_pipeline, param_grid=param_grid, cv=5, n_jobs=-1, verbose=2)\n",
        "grid.fit(X_train, y_train)\n",
        "\n",
        "predicted = grid.predict(X_test, y_test)\n",
        "\n",
        "print('Score:\\t{}'.format(grid.score(X_test, y_test)))\n"
      ],
      "metadata": {
        "id": "Jx2uPHrCeH5D"
      },
      "execution_count": null,
      "outputs": []
    },
    {
      "cell_type": "code",
      "source": [
        "# Defining GridSearchCV\n",
        "grid_cv_model = GridSearchCV(estimator=ridge,\n",
        "                       param_grid=param_grid,\n",
        "                       scoring='neg_mean_absolute_error',\n",
        "                       cv=5,\n",
        "                       return_train_score=True,\n",
        "                       verbose=1)\n",
        "\n",
        "# fiting GridSearchCV() with X_train and y_train\n",
        "grid_cv_model.fit(X_train,y_train)"
      ],
      "metadata": {
        "id": "Ngb0OcXceKZM"
      },
      "execution_count": null,
      "outputs": []
    }
  ]
}